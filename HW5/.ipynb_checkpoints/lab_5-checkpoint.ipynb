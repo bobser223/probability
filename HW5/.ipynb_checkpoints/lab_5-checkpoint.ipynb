{
  "cells": [
    {
      "cell_type": "markdown",
      "metadata": {
        "id": "oH0taDN4QnMn"
      },
      "source": [
        "# Лабораторне заняття №5\n",
        "\n"
      ]
    },
    {
      "cell_type": "markdown",
      "metadata": {
        "id": "hcyk0rlHQnMq"
      },
      "source": [
        "# Математичне сподівання та дисперсія\n",
        "На цьому занятті ми познайомимося з математичним сподіванням та дисперсією розглянутих раніше розподілів, які реалізовані в бібліотеці [SciPy](https://docs.scipy.org/doc/scipy/reference/).\n",
        "Із цього пакету будемо використовувати клас [scipy.stats](https://docs.scipy.org/doc/scipy/reference/stats.html), в якому реалізована велика кількість імовірнісних розподілів і статистичних функцій.\n",
        "\n",
        "Для візуалізації використаємо бібліотеку [Matplotlib](https://matplotlib.org/)."
      ]
    },
    {
      "cell_type": "code",
      "execution_count": null,
      "metadata": {
        "collapsed": true,
        "id": "xBidX83QQnMr"
      },
      "outputs": [],
      "source": [
        "import numpy as np\n",
        "import matplotlib.pyplot as plt"
      ]
    },
    {
      "cell_type": "markdown",
      "metadata": {
        "id": "z_TGRpg1QnMt"
      },
      "source": [
        "## 1 Математичне сподівання"
      ]
    },
    {
      "cell_type": "markdown",
      "metadata": {
        "id": "RlZBU15hQnMu"
      },
      "source": [
        "### 1.1 Дискретні розподіли"
      ]
    },
    {
      "cell_type": "markdown",
      "metadata": {
        "id": "UbTGNzgDQnMv"
      },
      "source": [
        "Нехай дискретна випадкова величина $\\xi$ набуває значень $x_1, x_2, \\ldots, x_n$ (це набір усіх можливих значень) з імовірностями $p_1, p_2, \\ldots, p_n$.\n",
        "Тоді її математичне сподівання визначається як\n",
        "$$\\mathsf{E}[\\xi] = \\sum \\limits_{k = 1}^{n} p_k x_k.$$"
      ]
    },
    {
      "cell_type": "markdown",
      "metadata": {
        "id": "QdH5kLA6QnMw"
      },
      "source": [
        "Реалізуйте відповідну функцію підрахунку математичного сподівання."
      ]
    },
    {
      "cell_type": "code",
      "execution_count": null,
      "metadata": {
        "id": "gtCD4Rb4QnMw"
      },
      "outputs": [],
      "source": [
        "def expectation(pk, xk):\n",
        "    if len(pk) != len(xk):\n",
        "        print('Vectors of probabilities and values should have the same lengths!')\n",
        "        return None\n",
        "    res = 0\n",
        "    for i in range(len(pk)):\n",
        "        res += pk[i] * xk[i]\n",
        "    return res"
      ]
    },
    {
      "cell_type": "markdown",
      "metadata": {
        "id": "qP2RWHSOQnMx"
      },
      "source": [
        "#### 1.1.1 Біноміальний розподіл"
      ]
    },
    {
      "cell_type": "markdown",
      "metadata": {
        "id": "d2Zqde68QnMy"
      },
      "source": [
        "Розглянемо випадкову величину $\\xi$ з біноміального розподілу з параметрами $n = 20, p = 0.6$.\n",
        "Тобто $\\xi \\sim Binom(20, 0.6)$."
      ]
    },
    {
      "cell_type": "code",
      "execution_count": null,
      "metadata": {
        "collapsed": true,
        "id": "TTgYn2T8QnMy"
      },
      "outputs": [],
      "source": [
        "from scipy.stats import binom\n",
        "\n",
        "n = 20\n",
        "p = 0.6"
      ]
    },
    {
      "cell_type": "markdown",
      "metadata": {
        "id": "waYYM0epQnMz"
      },
      "source": [
        "Замість того, щоб явно вказувати параметри розподілу в усіх методах класу **binom**, можна визначити екземпляр цього класу з відповідними параметрами і потім застосовувати необхідні методи до цього екземпляру без задання параметрів розподілу.\n",
        "Це справедливо для всіх класів статистичних розподілів."
      ]
    },
    {
      "cell_type": "code",
      "execution_count": null,
      "metadata": {
        "id": "N_---8rQQnMz"
      },
      "outputs": [],
      "source": [
        "xi = binom(n=n, p=p)"
      ]
    },
    {
      "cell_type": "markdown",
      "metadata": {
        "id": "ZYy30qtoQnM0"
      },
      "source": [
        "Для обрахунку математичного сподівання необхідно знати всі можливі значення випадкової величини та їх відповідні ймовірності.\n",
        "Прямого методу для отримання цих значень немає.\n",
        "Однак, можна отримати найменше та найбільше можливе значення випадкової величини."
      ]
    },
    {
      "cell_type": "code",
      "execution_count": null,
      "metadata": {
        "collapsed": true,
        "id": "capDuwGoQnM0"
      },
      "outputs": [],
      "source": [
        "x_min = xi.a\n",
        "x_max = xi.b"
      ]
    },
    {
      "cell_type": "markdown",
      "metadata": {
        "id": "1IJh-ymzQnM1"
      },
      "source": [
        "Оскільки дискретні випадкові величини набувають лише цілих значень, то тепер можна відтворити всю множину."
      ]
    },
    {
      "cell_type": "code",
      "execution_count": null,
      "metadata": {
        "id": "7AG--CzFQnM1"
      },
      "outputs": [],
      "source": [
        "xk = np.arange(x_min, x_max+1)"
      ]
    },
    {
      "cell_type": "markdown",
      "metadata": {
        "id": "M4bJYYBvQnM2"
      },
      "source": [
        "Тепер можна отримати й імовірності усіх значень випадкової величини:\n",
        "$$p_k = p(x_k) = \\mathsf{P}(\\xi = x_k), \\quad 1 \\leq k \\leq n.$$"
      ]
    },
    {
      "cell_type": "code",
      "execution_count": null,
      "metadata": {
        "collapsed": true,
        "id": "wR7dW8_HQnM2"
      },
      "outputs": [],
      "source": [
        "pk = xi.pmf(xk)"
      ]
    },
    {
      "cell_type": "markdown",
      "metadata": {
        "id": "_uBEb0K2QnM3"
      },
      "source": [
        "Зобразимо графік щільності випадкової величини $\\xi$."
      ]
    },
    {
      "cell_type": "code",
      "execution_count": null,
      "metadata": {
        "scrolled": true,
        "colab": {
          "base_uri": "https://localhost:8080/",
          "height": 445
        },
        "id": "ktovsF_zQnM3",
        "outputId": "cc74a3e5-4434-4feb-93f0-650a0a7c3445"
      },
      "outputs": [
        {
          "output_type": "display_data",
          "data": {
            "text/plain": [
              "<Figure size 1000x500 with 1 Axes>"
            ],
            "image/png": "[encoded data removed]"
          },
          "metadata": {}
        }
      ],
      "source": [
        "fig = plt.figure(figsize=(10,5))\n",
        "plt.stem(xk, pk)\n",
        "plt.show()"
      ]
    },
    {
      "cell_type": "markdown",
      "metadata": {
        "id": "E-P9JI30QnM4"
      },
      "source": [
        "Тоді математичне сподівання випадкової величини $\\xi$ дорівнює:"
      ]
    },
    {
      "cell_type": "code",
      "execution_count": null,
      "metadata": {
        "colab": {
          "base_uri": "https://localhost:8080/"
        },
        "id": "VDHgjlUIQnM5",
        "outputId": "28fa55ac-b887-4fc6-b718-12d6b306f383"
      },
      "outputs": [
        {
          "output_type": "stream",
          "name": "stdout",
          "text": [
            "12.000000000000014\n"
          ]
        }
      ],
      "source": [
        "print(expectation(pk, xk))"
      ]
    },
    {
      "cell_type": "markdown",
      "metadata": {
        "id": "Zn_gMBQOQnM6"
      },
      "source": [
        "Використовуючи властивості **NumPy**-векторів, обрахунок математичного сподівання можна реалізувати набагато простіше."
      ]
    },
    {
      "cell_type": "markdown",
      "metadata": {
        "id": "WrUksl5wQnM7"
      },
      "source": [
        "Множення **NumPy**-векторів (за допомогою знаку множення **\\***) відбувається поелементно."
      ]
    },
    {
      "cell_type": "code",
      "execution_count": null,
      "metadata": {
        "colab": {
          "base_uri": "https://localhost:8080/"
        },
        "id": "CRq0hm3IQnM7",
        "outputId": "cce682de-ccd4-41e2-d972-d128e3c43b2a"
      },
      "outputs": [
        {
          "output_type": "stream",
          "name": "stdout",
          "text": [
            "12.000000000000014\n"
          ]
        }
      ],
      "source": [
        "print(sum(pk * xk))"
      ]
    },
    {
      "cell_type": "markdown",
      "metadata": {
        "id": "-Ro9SgLoQnM7"
      },
      "source": [
        "Або використовуючи скалярний добуток (векторне множення)."
      ]
    },
    {
      "cell_type": "code",
      "execution_count": null,
      "metadata": {
        "colab": {
          "base_uri": "https://localhost:8080/"
        },
        "id": "Wyu9rGAmQnM8",
        "outputId": "259f48e4-00e2-4cc7-e69a-1e299a862bf6"
      },
      "outputs": [
        {
          "output_type": "stream",
          "name": "stdout",
          "text": [
            "12.000000000000014\n"
          ]
        }
      ],
      "source": [
        "print(xk.dot(pk))"
      ]
    },
    {
      "cell_type": "markdown",
      "metadata": {
        "id": "Lnz70Xr3QnM8"
      },
      "source": [
        "У класах статистичних розподілів підрахунок математичного сподівання реалізований методом **mean** (загальний опис методу в [документації](https://docs.scipy.org/doc/scipy/reference/generated/scipy.stats.rv_discrete.mean.html))."
      ]
    },
    {
      "cell_type": "code",
      "execution_count": null,
      "metadata": {
        "colab": {
          "base_uri": "https://localhost:8080/"
        },
        "id": "oM8uOT3HQnM9",
        "outputId": "e75b53ae-4fb5-4b19-a344-cf0897a76ebe"
      },
      "outputs": [
        {
          "output_type": "stream",
          "name": "stdout",
          "text": [
            "12.0\n"
          ]
        }
      ],
      "source": [
        "print(xi.mean())"
      ]
    },
    {
      "cell_type": "markdown",
      "metadata": {
        "id": "6GOmo5kHQnM9"
      },
      "source": [
        "Математичне сподівання можна також порахувати за допомогою методу **expect** (загальний опис методу в [документації](https://docs.scipy.org/doc/scipy/reference/generated/scipy.stats.rv_discrete.expect.html))."
      ]
    },
    {
      "cell_type": "code",
      "execution_count": null,
      "metadata": {
        "colab": {
          "base_uri": "https://localhost:8080/"
        },
        "id": "kh3EGiKDQnM9",
        "outputId": "f87c9b07-8d45-4dd7-b678-9e1eed2601df"
      },
      "outputs": [
        {
          "output_type": "stream",
          "name": "stdout",
          "text": [
            "12.000000000000014\n"
          ]
        }
      ],
      "source": [
        "print(xi.expect())"
      ]
    },
    {
      "cell_type": "markdown",
      "metadata": {
        "id": "GhP5AmLtQnM-"
      },
      "source": [
        "#### 1.1.1 Геометричний розподіл"
      ]
    },
    {
      "cell_type": "markdown",
      "metadata": {
        "id": "VfGEpHo4QnM-"
      },
      "source": [
        "Розглянемо випадкову величину $\\xi$ з геометричного розподілу з параметром $p = 0.25$.\n",
        "Тобто $\\xi \\sim Geom(0.25)$."
      ]
    },
    {
      "cell_type": "code",
      "execution_count": null,
      "metadata": {
        "collapsed": true,
        "id": "TvG8PKhTQnM_"
      },
      "outputs": [],
      "source": [
        "from scipy.stats import geom\n",
        "\n",
        "p = 0.25"
      ]
    },
    {
      "cell_type": "code",
      "execution_count": null,
      "metadata": {
        "id": "NLQ-PwSpQnM_"
      },
      "outputs": [],
      "source": [
        "xi = geom(p=p)"
      ]
    },
    {
      "cell_type": "markdown",
      "metadata": {
        "id": "m4tqKSWuQnM_"
      },
      "source": [
        "Для обрахунку математичного сподівання необхідно знати всі можливі значення випадкової величини та їх відповідні ймовірності.\n",
        "Прямого методу для отримання цих значень немає.\n",
        "Однак, можна отримати найменше та найбільше можливе значення випадкової величини."
      ]
    },
    {
      "cell_type": "code",
      "execution_count": null,
      "metadata": {
        "collapsed": true,
        "id": "CehaWpxAQnNA"
      },
      "outputs": [],
      "source": [
        "x_min = xi.a\n",
        "x_max = xi.b"
      ]
    },
    {
      "cell_type": "code",
      "execution_count": null,
      "metadata": {
        "colab": {
          "base_uri": "https://localhost:8080/"
        },
        "id": "-5lpe18tQnNA",
        "outputId": "e355f3cf-9a2a-4146-83cc-13bd5eb7e7bf"
      },
      "outputs": [
        {
          "output_type": "stream",
          "name": "stdout",
          "text": [
            "1 inf\n"
          ]
        }
      ],
      "source": [
        "print(x_min, x_max)"
      ]
    },
    {
      "cell_type": "markdown",
      "metadata": {
        "id": "oLhJClqgQnNB"
      },
      "source": [
        "Верхня межа дорівнює нескінченності, тому можна провести лише ниближені обчислення."
      ]
    },
    {
      "cell_type": "code",
      "execution_count": null,
      "metadata": {
        "id": "YFXKjZKPQnNB"
      },
      "outputs": [],
      "source": [
        "xk = np.arange(x_min, 101)"
      ]
    },
    {
      "cell_type": "markdown",
      "metadata": {
        "id": "Ug7l_iKPQnNC"
      },
      "source": [
        "Тепер можна отримати й імовірності усіх значень випадкової величини:\n",
        "$$p_k = p(x_k) = \\mathsf{P}(\\xi = x_k), \\quad 1 \\leq k \\leq n.$$"
      ]
    },
    {
      "cell_type": "code",
      "execution_count": null,
      "metadata": {
        "collapsed": true,
        "id": "VrtKAKE7QnNC"
      },
      "outputs": [],
      "source": [
        "pk = xi.pmf(xk)"
      ]
    },
    {
      "cell_type": "markdown",
      "metadata": {
        "id": "KPqxg48FQnNC"
      },
      "source": [
        "Зобразимо графік щільності випадкової величини $\\xi$."
      ]
    },
    {
      "cell_type": "code",
      "execution_count": null,
      "metadata": {
        "colab": {
          "base_uri": "https://localhost:8080/",
          "height": 445
        },
        "id": "Q1ie7M4aQnND",
        "outputId": "d1f50966-a375-4e29-8e7a-99ad12339f3c"
      },
      "outputs": [
        {
          "output_type": "display_data",
          "data": {
            "text/plain": [
              "<Figure size 1000x500 with 1 Axes>"
            ],
            "image/png": "[encoded data removed]"
          },
          "metadata": {}
        }
      ],
      "source": [
        "fig = plt.figure(figsize=(10,5))\n",
        "plt.stem(xk, pk)\n",
        "plt.show()"
      ]
    },
    {
      "cell_type": "markdown",
      "metadata": {
        "id": "EQN4qqOQQnNE"
      },
      "source": [
        "Тоді математичне сподівання випадкової величини $\\xi$ дорівнює:"
      ]
    },
    {
      "cell_type": "code",
      "execution_count": null,
      "metadata": {
        "colab": {
          "base_uri": "https://localhost:8080/"
        },
        "id": "yijaP8L8QnNE",
        "outputId": "3569eb32-e778-4f7c-b8c9-1616978d6637"
      },
      "outputs": [
        {
          "output_type": "stream",
          "name": "stdout",
          "text": [
            "3.999999999966646\n"
          ]
        }
      ],
      "source": [
        "print(expectation(pk, xk))"
      ]
    },
    {
      "cell_type": "markdown",
      "metadata": {
        "id": "Z8lZDlOBQnNF"
      },
      "source": [
        "Використовуючи властивості **NumPy**-векторів, обрахунок математичного сподівання можна реалізувати набагато простіше."
      ]
    },
    {
      "cell_type": "markdown",
      "metadata": {
        "id": "HIUN40frQnNF"
      },
      "source": [
        "Множення **NumPy**-векторів (за допомогою знаку множення **\\***) відбувається поелементно."
      ]
    },
    {
      "cell_type": "code",
      "execution_count": null,
      "metadata": {
        "colab": {
          "base_uri": "https://localhost:8080/"
        },
        "id": "g3jfOt2xQnNF",
        "outputId": "70156502-db7f-4bcf-a0a6-50eb431fe6df"
      },
      "outputs": [
        {
          "output_type": "stream",
          "name": "stdout",
          "text": [
            "3.999999999966646\n"
          ]
        }
      ],
      "source": [
        "print(sum(pk * xk))"
      ]
    },
    {
      "cell_type": "markdown",
      "metadata": {
        "id": "Si57g7DXQnNG"
      },
      "source": [
        "Або використовуючи скалярний добуток (векторне множення)."
      ]
    },
    {
      "cell_type": "code",
      "execution_count": null,
      "metadata": {
        "colab": {
          "base_uri": "https://localhost:8080/"
        },
        "id": "wRhGPAfpQnNG",
        "outputId": "86baea88-1cf6-48bb-cbc7-0b983f53e199"
      },
      "outputs": [
        {
          "output_type": "stream",
          "name": "stdout",
          "text": [
            "3.9999999999666453\n"
          ]
        }
      ],
      "source": [
        "print(xk.dot(pk))"
      ]
    },
    {
      "cell_type": "markdown",
      "metadata": {
        "id": "QSl550RnQnNH"
      },
      "source": [
        "У класах статистичних розподілів підрахунок математичного сподівання реалізований методом **mean** (загальний опис методу в [документації](https://docs.scipy.org/doc/scipy/reference/generated/scipy.stats.rv_discrete.mean.html))."
      ]
    },
    {
      "cell_type": "code",
      "execution_count": null,
      "metadata": {
        "colab": {
          "base_uri": "https://localhost:8080/"
        },
        "id": "lkhR-gfcQnNH",
        "outputId": "df466879-3d27-4470-f140-12bf636c04f1"
      },
      "outputs": [
        {
          "output_type": "stream",
          "name": "stdout",
          "text": [
            "4.0\n"
          ]
        }
      ],
      "source": [
        "print(xi.mean())"
      ]
    },
    {
      "cell_type": "markdown",
      "metadata": {
        "id": "YZdzMvWeQnNI"
      },
      "source": [
        "Математичне сподівання можна також порахувати за допомогою методу **expect** (загальний опис методу в [документації](https://docs.scipy.org/doc/scipy/reference/generated/scipy.stats.rv_discrete.expect.html))."
      ]
    },
    {
      "cell_type": "code",
      "execution_count": null,
      "metadata": {
        "colab": {
          "base_uri": "https://localhost:8080/"
        },
        "id": "9FvU7WpPQnNI",
        "outputId": "fafbd2f5-9877-4bd5-e4af-588c60cee5d1"
      },
      "outputs": [
        {
          "output_type": "stream",
          "name": "stdout",
          "text": [
            "3.9999999999999925\n"
          ]
        }
      ],
      "source": [
        "print(xi.expect())"
      ]
    },
    {
      "cell_type": "markdown",
      "metadata": {
        "id": "uK4vwb51QnNI"
      },
      "source": [
        "### 1.2 Неперервні розподіли"
      ]
    },
    {
      "cell_type": "markdown",
      "metadata": {
        "id": "fjzre623QnNJ"
      },
      "source": [
        "Нехай неперервна випадкова величина $\\xi$ має щільність $f(x)$.\n",
        "Тоді її математичне сподівання визначається як\n",
        "$$\\mathsf{E}[\\xi] = \\int \\limits_{- \\infty}^{\\infty} x f(x) \\, dx.$$"
      ]
    },
    {
      "cell_type": "markdown",
      "metadata": {
        "id": "a5QP7OYWQnNJ"
      },
      "source": [
        "#### 1.2.1 Рівномірний розподіл"
      ]
    },
    {
      "cell_type": "markdown",
      "metadata": {
        "id": "SWsH0QHjQnNJ"
      },
      "source": [
        "Розглянемо випадкову величину $\\xi$ з рівномірного розподілу з параметрами $a = -1, b = 4$.\n",
        "Тобто $\\xi \\sim Unif(-1, 4)$."
      ]
    },
    {
      "cell_type": "code",
      "execution_count": null,
      "metadata": {
        "id": "PyGCiNdSQnNK"
      },
      "outputs": [],
      "source": [
        "from scipy.stats import uniform\n",
        "\n",
        "a = -1\n",
        "b = 4"
      ]
    },
    {
      "cell_type": "markdown",
      "metadata": {
        "id": "medmUymQQnNK"
      },
      "source": [
        "Пам'ятаємо, що параметри цього розподілу необхідно виразити в аргументах $loc$ та $scale$."
      ]
    },
    {
      "cell_type": "code",
      "execution_count": null,
      "metadata": {
        "collapsed": true,
        "id": "BdewKGtQQnNL"
      },
      "outputs": [],
      "source": [
        "loc = a\n",
        "scale = b - a"
      ]
    },
    {
      "cell_type": "code",
      "execution_count": null,
      "metadata": {
        "collapsed": true,
        "id": "U1_qWTVeQnNL"
      },
      "outputs": [],
      "source": [
        "xi = uniform(loc=loc, scale=scale)"
      ]
    },
    {
      "cell_type": "markdown",
      "metadata": {
        "id": "cq_csrtSQnNM"
      },
      "source": [
        "Зобразимо графік щільності випадкової величини $\\xi$ на відрізку $[a - 1, b + 1]$."
      ]
    },
    {
      "cell_type": "code",
      "execution_count": null,
      "metadata": {
        "collapsed": true,
        "colab": {
          "base_uri": "https://localhost:8080/",
          "height": 445
        },
        "id": "eJiLdIsNQnNM",
        "outputId": "56cfd97c-b887-48e2-bb9b-4060388fa095"
      },
      "outputs": [
        {
          "output_type": "display_data",
          "data": {
            "text/plain": [
              "<Figure size 1000x500 with 1 Axes>"
            ],
            "image/png": "[encoded data removed]"
          },
          "metadata": {}
        }
      ],
      "source": [
        "#місце для коду\n",
        "xk = np.arange(a-1, b + 1.01, 0.01)\n",
        "pk = xi.pdf(xk)\n",
        "fig = plt.figure(figsize=(10,5))\n",
        "plt.plot(xk, pk)\n",
        "plt.show()"
      ]
    },
    {
      "cell_type": "markdown",
      "metadata": {
        "id": "z2LKudthQnNN"
      },
      "source": [
        "Тоді математичне сподівання випадкової величини $\\xi$ дорівнює:"
      ]
    },
    {
      "cell_type": "markdown",
      "metadata": {
        "id": "w9IlrxYBQnNN"
      },
      "source": [
        "за допомогою методу **mean** (загальний опис методу в [документації](https://docs.scipy.org/doc/scipy/reference/generated/scipy.stats.rv_continuous.mean.html))"
      ]
    },
    {
      "cell_type": "code",
      "execution_count": null,
      "metadata": {
        "colab": {
          "base_uri": "https://localhost:8080/"
        },
        "id": "NxZygEmtQnNP",
        "outputId": "e42e62fa-a20a-46b0-90d0-c20e73ac1996"
      },
      "outputs": [
        {
          "output_type": "stream",
          "name": "stdout",
          "text": [
            "1.5\n"
          ]
        }
      ],
      "source": [
        "#місце для коду\n",
        "print(xi.mean())"
      ]
    },
    {
      "cell_type": "markdown",
      "metadata": {
        "id": "niCZNijCQnNP"
      },
      "source": [
        "за допомогою методу **expect** (загальний опис методу в [документації](https://docs.scipy.org/doc/scipy/reference/generated/scipy.stats.rv_continuous.expect.html))"
      ]
    },
    {
      "cell_type": "code",
      "execution_count": null,
      "metadata": {
        "colab": {
          "base_uri": "https://localhost:8080/"
        },
        "id": "voG-KWcjQnNQ",
        "outputId": "6de6ac14-e130-4ae9-8fd9-5eb3525071e7"
      },
      "outputs": [
        {
          "output_type": "stream",
          "name": "stdout",
          "text": [
            "1.5000000000000002\n"
          ]
        }
      ],
      "source": [
        "#місце для коду\n",
        "print(xi.expect())"
      ]
    },
    {
      "cell_type": "markdown",
      "metadata": {
        "id": "MQtc4WciQnNR"
      },
      "source": [
        "#### 1.2.1 Експоненційний розподіл"
      ]
    },
    {
      "cell_type": "markdown",
      "metadata": {
        "id": "LM2pgw-SQnNR"
      },
      "source": [
        "Розглянемо випадкову величину $\\xi$ з експоненційного розподілу з параметром $\\lambda = 0.75$.\n",
        "Тобто $\\xi \\sim Exp(0.75)$."
      ]
    },
    {
      "cell_type": "code",
      "execution_count": null,
      "metadata": {
        "id": "IbmOjkOfQnNS"
      },
      "outputs": [],
      "source": [
        "from scipy.stats import expon\n",
        "\n",
        "lmd = 0.75"
      ]
    },
    {
      "cell_type": "markdown",
      "metadata": {
        "id": "DSnY43nbQnNS"
      },
      "source": [
        "Пам'ятаємо, що параметри цього розподілу необхідно виразити в аргументах $loc$ та $scale$."
      ]
    },
    {
      "cell_type": "code",
      "execution_count": null,
      "metadata": {
        "collapsed": true,
        "id": "XfLaGUGAQnNT"
      },
      "outputs": [],
      "source": [
        "loc = 0\n",
        "scale = 1 / lmd"
      ]
    },
    {
      "cell_type": "code",
      "execution_count": null,
      "metadata": {
        "collapsed": true,
        "id": "APpTZ2BWQnNT"
      },
      "outputs": [],
      "source": [
        "xi = expon(loc=loc, scale=scale)"
      ]
    },
    {
      "cell_type": "markdown",
      "metadata": {
        "id": "SnZEEQypQnNU"
      },
      "source": [
        "Зобразимо графік щільності випадкової величини $\\xi$ на відрізку $[-1, 10]$."
      ]
    },
    {
      "cell_type": "code",
      "execution_count": null,
      "metadata": {
        "collapsed": true,
        "id": "AA1-WMbfQnNU"
      },
      "outputs": [],
      "source": [
        "xk = np.arange(-1, 10.01, 0.01)\n",
        "pk = xi.pdf(xk)"
      ]
    },
    {
      "cell_type": "code",
      "execution_count": null,
      "metadata": {
        "colab": {
          "base_uri": "https://localhost:8080/",
          "height": 445
        },
        "id": "PgKVc1BjQnNU",
        "outputId": "8820977d-5d43-49af-9f90-5d98fa335747"
      },
      "outputs": [
        {
          "output_type": "display_data",
          "data": {
            "text/plain": [
              "<Figure size 1000x500 with 1 Axes>"
            ],
            "image/png": "[encoded data removed]"
          },
          "metadata": {}
        }
      ],
      "source": [
        "fig = plt.figure(figsize=(10,5))\n",
        "plt.plot(xk, pk)\n",
        "plt.show()"
      ]
    },
    {
      "cell_type": "markdown",
      "metadata": {
        "id": "HdrjnvZXQnNV"
      },
      "source": [
        "Тоді математичне сподівання випадкової величини $\\xi$ дорівнює:"
      ]
    },
    {
      "cell_type": "markdown",
      "metadata": {
        "id": "yHVt3AX4QnNV"
      },
      "source": [
        "за допомогою методу **mean** (загальний опис методу в [документації](https://docs.scipy.org/doc/scipy/reference/generated/scipy.stats.rv_continuous.mean.html))"
      ]
    },
    {
      "cell_type": "code",
      "execution_count": null,
      "metadata": {
        "colab": {
          "base_uri": "https://localhost:8080/"
        },
        "id": "jnSc3zY7QnNW",
        "outputId": "c9f49b37-6fb8-4f1c-fcfa-02762e1c8d06"
      },
      "outputs": [
        {
          "output_type": "stream",
          "name": "stdout",
          "text": [
            "1.3333333333333333\n"
          ]
        }
      ],
      "source": [
        "print(xi.mean())"
      ]
    },
    {
      "cell_type": "markdown",
      "metadata": {
        "id": "umRf6Dd1QnNW"
      },
      "source": [
        "за допомогою методу **expect** (загальний опис методу в [документації](https://docs.scipy.org/doc/scipy/reference/generated/scipy.stats.rv_continuous.expect.html))"
      ]
    },
    {
      "cell_type": "code",
      "execution_count": null,
      "metadata": {
        "colab": {
          "base_uri": "https://localhost:8080/"
        },
        "id": "vsgR679XQnNW",
        "outputId": "b16d89f9-15d2-4725-ec46-c9c5265b7f79"
      },
      "outputs": [
        {
          "output_type": "stream",
          "name": "stdout",
          "text": [
            "1.3333333333333286\n"
          ]
        }
      ],
      "source": [
        "print(xi.expect())"
      ]
    },
    {
      "cell_type": "markdown",
      "metadata": {
        "id": "t4buPHb_QnNX"
      },
      "source": [
        "## 2 Дисперсія"
      ]
    },
    {
      "cell_type": "markdown",
      "metadata": {
        "id": "Lbgt21aoQnNX"
      },
      "source": [
        "Для випадкової величини $\\xi$ дисперсія визначається як\n",
        "$$\\mathsf{D}(\\xi) = \\mathsf{Var}[\\xi]\n",
        "= \\mathsf{E} \\left[ \\left( \\xi - \\mathsf{E}[\\xi] \\right)^2 \\right]\n",
        "= \\mathsf{E}[\\xi^2] - \\left( \\mathsf{E}[\\xi] \\right)^2.$$"
      ]
    },
    {
      "cell_type": "markdown",
      "metadata": {
        "id": "gKSW7BNrQnNX"
      },
      "source": [
        "### 1.1 Дискретні розподіли"
      ]
    },
    {
      "cell_type": "markdown",
      "metadata": {
        "id": "C_a5zDR9QnNX"
      },
      "source": [
        "Нехай дискретна випадкова величина $\\xi$ набуває значень $x_1, x_2, \\ldots, x_n$ (це набір усіх можливих значень) з імовірностями $p_1, p_2, \\ldots, p_n$.\n",
        "Тоді для деякої функції $g$ математичне сподівання випадкової величини $g(\\xi)$ визначається як\n",
        "$$\\mathsf{E}[g(\\xi)] = \\sum \\limits_{k = 1}^{n} p_k g(x_k).$$"
      ]
    },
    {
      "cell_type": "markdown",
      "metadata": {
        "id": "VyzIlMy_QnNY"
      },
      "source": [
        "#### 1.1.1 Біноміальний розподіл"
      ]
    },
    {
      "cell_type": "markdown",
      "metadata": {
        "id": "C_MkqfnwQnNY"
      },
      "source": [
        "Розглянемо випадкову величину $\\xi$ з біноміального розподілу з параметрами $n = 20, p = 0.6$.\n",
        "Тобто $\\xi \\sim Binom(20, 0.6)$."
      ]
    },
    {
      "cell_type": "code",
      "execution_count": null,
      "metadata": {
        "collapsed": true,
        "id": "mhGexOrhQnNY"
      },
      "outputs": [],
      "source": [
        "from scipy.stats import binom\n",
        "\n",
        "n = 20\n",
        "p = 0.6"
      ]
    },
    {
      "cell_type": "code",
      "execution_count": null,
      "metadata": {
        "id": "4gqaxyHuQnNZ"
      },
      "outputs": [],
      "source": [
        "xi = binom(n=n, p=p)"
      ]
    },
    {
      "cell_type": "code",
      "execution_count": null,
      "metadata": {
        "collapsed": true,
        "id": "bB4JRFsGQnNZ"
      },
      "outputs": [],
      "source": [
        "x_min = xi.a\n",
        "x_max = xi.b"
      ]
    },
    {
      "cell_type": "code",
      "execution_count": null,
      "metadata": {
        "collapsed": true,
        "id": "r2yE3eLwQnNZ"
      },
      "outputs": [],
      "source": [
        "xk = np.arange(x_min, x_max+1)"
      ]
    },
    {
      "cell_type": "code",
      "execution_count": null,
      "metadata": {
        "collapsed": true,
        "id": "Eh4K4sc8QnNZ"
      },
      "outputs": [],
      "source": [
        "pk = xi.pmf(xk)"
      ]
    },
    {
      "cell_type": "markdown",
      "metadata": {
        "id": "t7xSbnbKQnNa"
      },
      "source": [
        "Тоді дисперсія випадкової величини $\\xi$ дорівнює:"
      ]
    },
    {
      "cell_type": "code",
      "execution_count": null,
      "metadata": {
        "id": "xWGaxXtdQnNa"
      },
      "outputs": [],
      "source": [
        " #місце для коду\n",
        "print(expectation(pk, xk))\n",
        "\n",
        "new_xk = (xk - expectation(pk, xk))**2\n",
        "# print(new_xk)\n",
        "\n",
        "print(expectation(pk, new_xk))"
      ]
    },
    {
      "cell_type": "markdown",
      "metadata": {
        "id": "W1Z-z-toQnNa"
      },
      "source": [
        "У класах статистичних розподілів підрахунок дисперсії реалізований методом **var** (загальний опис методу в [документації](https://docs.scipy.org/doc/scipy/reference/generated/scipy.stats.rv_discrete.var.html))."
      ]
    },
    {
      "cell_type": "code",
      "execution_count": null,
      "metadata": {
        "id": "adbm_CrEQnNb"
      },
      "outputs": [],
      "source": [
        "xi.var()"
      ]
    },
    {
      "cell_type": "markdown",
      "metadata": {
        "id": "-w-DRmrPQnNd"
      },
      "source": [
        "#### 1.1.2 Геометричний розподіл\n",
        "Реалізуйте підрахунок дисперсії для $\\xi \\sim Geom(0.25)$ трьома способами:\n",
        "- за допомогою методу **var**;\n",
        "- за допомогою методу **expect** та формули для дисперсії\n",
        "$\\mathsf{D}(\\xi) = \\mathsf{E} \\left[ \\left( \\xi - \\mathsf{E}[\\xi] \\right)^2 \\right]$;\n",
        "- за допомогою методу **expect** та формули для дисперсії\n",
        "$\\mathsf{D}(\\xi) = \\mathsf{E}[\\xi^2] - \\left( \\mathsf{E}[\\xi] \\right)^2$."
      ]
    },
    {
      "cell_type": "markdown",
      "source": [
        "https://docs.scipy.org/doc/scipy/reference/generated/scipy.stats.rv_discrete.expect.html"
      ],
      "metadata": {
        "id": "uxNxvEf6oZjM"
      }
    },
    {
      "cell_type": "code",
      "execution_count": 71,
      "metadata": {
        "id": "UVe6hWGsQnNe",
        "colab": {
          "base_uri": "https://localhost:8080/"
        },
        "outputId": "3d1c0c85-b8d9-4185-a096-2a450a257bc2"
      },
      "outputs": [
        {
          "output_type": "stream",
          "name": "stdout",
          "text": [
            "12.0\n",
            "11.999999999999996\n",
            "11.999999999999996\n"
          ]
        }
      ],
      "source": [
        "from scipy.stats import geom\n",
        "xi = geom(p = 0.25)\n",
        "\n",
        "def disp(x):\n",
        "  return ((x - xi.expect())**2)\n",
        "\n",
        "def disp2(x):\n",
        "  return ((x - xi.expect())) ** 2\n",
        "\n",
        "\n",
        "print(xi.var())\n",
        "print(xi.expect(disp) )\n",
        "print(xi.expect(disp2))"
      ]
    },
    {
      "cell_type": "markdown",
      "metadata": {
        "id": "8G5Bcti2QnNe"
      },
      "source": [
        "### 1.2 Неперервні розподіли"
      ]
    },
    {
      "cell_type": "markdown",
      "metadata": {
        "id": "Js1nx9XOQnNf"
      },
      "source": [
        "Нехай неперервна випадкова величина $\\xi$ має щільність $f(x)$.\n",
        "Тоді для деякої функції $g$ математичне сподівання випадкової величини $g(\\xi)$ визначається як\n",
        "$$\\mathsf{E}[g(\\xi)] = \\int \\limits_{- \\infty}^{\\infty} g(x) f(x) \\, dx.$$"
      ]
    },
    {
      "cell_type": "markdown",
      "metadata": {
        "id": "DLeXeDUCQnNf"
      },
      "source": [
        "#### 1.2.1 Рівномірний розподіл"
      ]
    },
    {
      "cell_type": "markdown",
      "metadata": {
        "id": "JPk24m4BQnNf"
      },
      "source": [
        "Розглянемо випадкову величину $\\xi$ з рівномірного розподілу з параметрами $a = -1, b = 4$.\n",
        "Тобто $\\xi \\sim Unif(-1, 4)$."
      ]
    },
    {
      "cell_type": "code",
      "execution_count": 63,
      "metadata": {
        "id": "taZlFLQUQnNf"
      },
      "outputs": [],
      "source": [
        "from scipy.stats import uniform\n",
        "\n",
        "a = -1\n",
        "b = 4"
      ]
    },
    {
      "cell_type": "code",
      "execution_count": 64,
      "metadata": {
        "collapsed": true,
        "id": "cMihlL6zQnNg"
      },
      "outputs": [],
      "source": [
        "loc = a\n",
        "scale = b - a"
      ]
    },
    {
      "cell_type": "code",
      "execution_count": 72,
      "metadata": {
        "collapsed": true,
        "id": "8JrCNKKGQnNg"
      },
      "outputs": [],
      "source": [
        "xi = uniform(loc=loc, scale=scale)"
      ]
    },
    {
      "cell_type": "markdown",
      "metadata": {
        "id": "Wp01ZMEQQnNg"
      },
      "source": [
        "Тоді дисперсія випадкової величини $\\xi$ дорівнює:"
      ]
    },
    {
      "cell_type": "markdown",
      "metadata": {
        "id": "KGXW-l6bQnNh"
      },
      "source": [
        "за допомогою методу **var** (загальний опис методу в [документації](https://docs.scipy.org/doc/scipy/reference/generated/scipy.stats.rv_continuous.var.html))"
      ]
    },
    {
      "cell_type": "code",
      "execution_count": 66,
      "metadata": {
        "id": "iRoUP5X5QnNh",
        "colab": {
          "base_uri": "https://localhost:8080/"
        },
        "outputId": "9a4c4585-e4f1-4081-9d2c-c7b86459299e"
      },
      "outputs": [
        {
          "output_type": "stream",
          "name": "stdout",
          "text": [
            "2.083333333333333\n"
          ]
        }
      ],
      "source": [
        "print(xi.var())"
      ]
    },
    {
      "cell_type": "markdown",
      "metadata": {
        "id": "mDfO9Sk0QnNh"
      },
      "source": [
        "за допомогою методу **expect** (загальний опис методу в [документації](https://docs.scipy.org/doc/scipy/reference/generated/scipy.stats.rv_continuous.expect.html))"
      ]
    },
    {
      "cell_type": "code",
      "execution_count": 73,
      "metadata": {
        "id": "uS0aXJV7QnNh",
        "colab": {
          "base_uri": "https://localhost:8080/"
        },
        "outputId": "2604226f-7bf4-4cfe-daf2-2b6448454b33"
      },
      "outputs": [
        {
          "output_type": "stream",
          "name": "stdout",
          "text": [
            "2.0833333333333335\n"
          ]
        }
      ],
      "source": [
        "print(xi.expect(disp))"
      ]
    },
    {
      "cell_type": "markdown",
      "metadata": {
        "id": "bwUXonNMQnNi"
      },
      "source": [
        "#### 1.2.2 Експоненційний розподіл\n",
        "Реалізуйте підрахунок дисперсії для $\\xi \\sim Exp(0.75)$ трьома способами:\n",
        "- за допомогою методу **var**;\n",
        "- за допомогою методу **expect** та формули для дисперсії\n",
        "$\\mathsf{D}(\\xi) = \\mathsf{E} \\left[ \\left( \\xi - \\mathsf{E}[\\xi] \\right)^2 \\right]$;\n",
        "- за допомогою методу **expect** та формули для дисперсії\n",
        "$\\mathsf{D}(\\xi) = \\mathsf{E}[\\xi^2] - \\left( \\mathsf{E}[\\xi] \\right)^2$."
      ]
    },
    {
      "cell_type": "code",
      "execution_count": 75,
      "metadata": {
        "id": "J2AgecSRQnNi",
        "colab": {
          "base_uri": "https://localhost:8080/"
        },
        "outputId": "1dfea228-0b7b-4de6-a40b-b0e12c2d1fd5"
      },
      "outputs": [
        {
          "output_type": "stream",
          "name": "stdout",
          "text": [
            "1.7777777777777777\n",
            "1.777777777777778\n",
            "1.777777777777778\n"
          ]
        }
      ],
      "source": [
        "# Місце для Вашого коду\n",
        "from scipy.stats import expon\n",
        "\n",
        "lloc = 0\n",
        "scale = 1 / lmd\n",
        "xi = expon(loc=loc, scale=scale)\n",
        "\n",
        "def disp(x):\n",
        "  return ((x - xi.expect())**2)\n",
        "\n",
        "def disp2(x):\n",
        "  return ((x - xi.expect())) ** 2\n",
        "\n",
        "\n",
        "print(xi.var())\n",
        "print(xi.expect(disp) )\n",
        "print(xi.expect(disp2))"
      ]
    },
    {
      "cell_type": "markdown",
      "metadata": {
        "collapsed": true,
        "id": "Fe_DM0s4QnNj"
      },
      "source": [
        "## 3 Метод `stats`"
      ]
    },
    {
      "cell_type": "markdown",
      "metadata": {
        "id": "OEcvHgO8QnNj"
      },
      "source": [
        "Повертає математичне сподівання та дисперсію випадкової величини."
      ]
    },
    {
      "cell_type": "code",
      "execution_count": 76,
      "metadata": {
        "id": "BDXDjA00QnNj",
        "colab": {
          "base_uri": "https://localhost:8080/"
        },
        "outputId": "263392a4-e8e4-47f9-a7c3-660cd9f43b9e"
      },
      "outputs": [
        {
          "output_type": "stream",
          "name": "stdout",
          "text": [
            "(np.float64(12.0), np.float64(4.800000000000001))\n"
          ]
        }
      ],
      "source": [
        "xi = binom(n=20, p=0.6)\n",
        "print(xi.stats())"
      ]
    },
    {
      "cell_type": "code",
      "execution_count": 77,
      "metadata": {
        "id": "VyEwr7E-QnNj",
        "colab": {
          "base_uri": "https://localhost:8080/"
        },
        "outputId": "14fd0809-817e-403d-e3e3-5815b0a4a818"
      },
      "outputs": [
        {
          "output_type": "stream",
          "name": "stdout",
          "text": [
            "(np.float64(1.5), np.float64(2.083333333333333))\n"
          ]
        }
      ],
      "source": [
        "xi = uniform(-1, 5)\n",
        "print(xi.stats())"
      ]
    },
    {
      "cell_type": "markdown",
      "metadata": {
        "collapsed": true,
        "id": "HRCTlxnnQnNk"
      },
      "source": [
        "## 4 Задачі"
      ]
    },
    {
      "cell_type": "markdown",
      "metadata": {
        "id": "wvuqWMh4QnNk"
      },
      "source": [
        "### 4.1 Кількість шісток"
      ]
    },
    {
      "cell_type": "markdown",
      "metadata": {
        "id": "Dsww0j76QnNk"
      },
      "source": [
        "Нехай випадкова величина $\\xi$ - це кількість шісток після $n$ кидків грального кубика.\n",
        "\n",
        "Напишіть функцію для обрахунку математичного сподівання та дисперсії випадкової величини $\\xi$ в залежності від кількості $n$ кидків кубика методом повного перебору.\n",
        "Виведіть результат для $n = 1, 3, 6, 9.$\n",
        "\n",
        "Який розподіл має випадкова величина $\\xi$?\n",
        "Порівняйте математичне сподівання та дисперсію цього розподілу з обчисленими повним перебором."
      ]
    },
    {
      "cell_type": "code",
      "execution_count": null,
      "metadata": {
        "collapsed": true,
        "id": "E5BzUwWfQnNl"
      },
      "outputs": [],
      "source": [
        "# Місце для Вашого коду\n",
        "\n",
        "import numpy as np\n",
        "\n",
        "def find_E_and_D(n = 9):\n",
        "\n",
        "  six_count = 0\n",
        "  for i in range(n):\n",
        "    num = np.random.randint(1, 7)\n",
        "    if num == 6:\n",
        "      six_count += 1\n",
        "\n",
        "\n",
        "  return (six_count/n, six_count**2 /n - (six_count/n)**2)\n",
        "\n",
        "for n in [1,3,6,9]:\n",
        "\n",
        "  E, D = find_E_and_D(n)\n",
        "  print(f\"for n = {n}, E = {E}, D = {D}\""
      ]
    },
    {
      "cell_type": "code",
      "source": [
        "def find_E_and_D(n = 9):\n",
        "  avarage = 0\n",
        "  sims = 10000\n",
        "  for j in range (sims):\n",
        "\n",
        "    six_count = 0\n",
        "    for i in range(n):\n",
        "      num = np.random.randint(1, 7)\n",
        "      if num == 6:\n",
        "        six_count += 1\n",
        "\n",
        "    avarage += six_count\n",
        "\n",
        "  avarage /= sims\n",
        "\n",
        "  six_count = avarage\n",
        "\n",
        "  return (six_count/n, six_count**2 /n - (six_count/n)**2)\n",
        "\n",
        "for n in [1,3,6,9]:\n",
        "\n",
        "  E, D = find_E_and_D(n)\n",
        "  print(f\"for n = {n}, E = {E}, D = {D}\""
      ],
      "metadata": {
        "id": "vyxjtal9vH6G"
      },
      "execution_count": null,
      "outputs": []
    },
    {
      "cell_type": "markdown",
      "metadata": {
        "id": "wpn1DuZOQnNm"
      },
      "source": [
        "### 4.2 Кількість старших карт"
      ]
    },
    {
      "cell_type": "markdown",
      "metadata": {
        "id": "iIPVJ2UnQnNm"
      },
      "source": [
        "Нехай випадкова величина $\\xi$ - це кількість старших карт (валет, дама, король, туз) із $n$ карт вибраних навмання із колоди $52$ карт.\n",
        "\n",
        "Напишіть функцію для обрахунку математичного сподівання та дисперсії випадкової величини $\\xi$ в залежності від кількості $n$ кидків кубика методом повного перебору.\n",
        "Виведіть результат для $n = 1, 2, 3, 4, 5.$\n",
        "\n",
        "Який розподіл має випадкова величина $\\xi$?\n",
        "Порівняйте математичне сподівання та дисперсію цього розподілу з обчисленими повним перебором."
      ]
    },
    {
      "cell_type": "code",
      "execution_count": null,
      "metadata": {
        "id": "5OZpwmbEQnNm",
        "outputId": "79010973-93ae-4104-a118-2e2eb9f11d69"
      },
      "outputs": [
        {
          "name": "stdout",
          "output_type": "stream",
          "text": [
            "[('J', '♡'), ('J', '♢'), ('J', '♣'), ('J', '♠'), ('4', '♡'), ('4', '♢'), ('4', '♣'), ('4', '♠'), ('7', '♡'), ('7', '♢'), ('7', '♣'), ('7', '♠'), ('Q', '♡'), ('Q', '♢'), ('Q', '♣'), ('Q', '♠'), ('2', '♡'), ('2', '♢'), ('2', '♣'), ('2', '♠'), ('3', '♡'), ('3', '♢'), ('3', '♣'), ('3', '♠'), ('9', '♡'), ('9', '♢'), ('9', '♣'), ('9', '♠'), ('1', '♡'), ('1', '♢'), ('1', '♣'), ('1', '♠'), ('K', '♡'), ('K', '♢'), ('K', '♣'), ('K', '♠'), ('8', '♡'), ('8', '♢'), ('8', '♣'), ('8', '♠'), ('5', '♡'), ('5', '♢'), ('5', '♣'), ('5', '♠'), ('6', '♡'), ('6', '♢'), ('6', '♣'), ('6', '♠'), ('10', '♡'), ('10', '♢'), ('10', '♣'), ('10', '♠')]\n"
          ]
        }
      ],
      "source": [
        "# Визначимо номінали, масті та карти\n",
        "Ranks = {'1', '2', '3', '4', '5', '6', '7', '8', '9', '10', 'J', 'Q', 'K'}\n",
        "Suits = {'♢', '♠', '♣', '♡'}\n",
        "# Створимо колоду карт\n",
        "Cards = [(Rank, Suit) for Rank in Ranks for Suit in Suits]\n",
        "print(Cards)"
      ]
    },
    {
      "cell_type": "code",
      "source": [
        "# Місце для Вашого коду"
      ],
      "metadata": {
        "id": "109Z6DiXZ2_t"
      },
      "execution_count": null,
      "outputs": []
    }
  ],
  "metadata": {
    "kernelspec": {
      "display_name": "Python 3",
      "language": "python",
      "name": "python3"
    },
    "language_info": {
      "codemirror_mode": {
        "name": "ipython",
        "version": 3
      },
      "file_extension": ".py",
      "mimetype": "text/x-python",
      "name": "python",
      "nbconvert_exporter": "python",
      "pygments_lexer": "ipython3",
      "version": "3.6.1"
    },
    "colab": {
      "provenance": []
    }
  },
  "nbformat": 4,
  "nbformat_minor": 0
}