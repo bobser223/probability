{
 "cells": [
  {
   "cell_type": "markdown",
   "metadata": {
    "id": "GtmnoFFGxfrk"
   },
   "source": [
    "# Лабораторне заняття №1"
   ]
  },
  {
   "cell_type": "markdown",
   "metadata": {
    "id": "akl-H7qCxfrr"
   },
   "source": [
    "## 1 Перестановки"
   ]
  },
  {
   "cell_type": "markdown",
   "metadata": {
    "id": "bARlE_Qcxfrs"
   },
   "source": [
    "### 1.1 Використовуючи власну функцію"
   ]
  },
  {
   "cell_type": "code",
   "execution_count": 1,
   "metadata": {
    "collapsed": true,
    "executionInfo": {
     "elapsed": 543,
     "status": "ok",
     "timestamp": 1737369225358,
     "user": {
      "displayName": "Олена Дегтяр",
      "userId": "02379196706787407849"
     },
     "user_tz": -120
    },
    "id": "NZM9eEOPxfrs",
    "jupyter": {
     "outputs_hidden": true
    }
   },
   "outputs": [],
   "source": [
    "def permute(A):\n",
    "    if len(A)==1:\n",
    "        return [tuple(A)]\n",
    "    permutations = []\n",
    "    for x in A:\n",
    "        for y in permute(A-{x}):\n",
    "            permutations.append((x,)+y)\n",
    "    return permutations"
   ]
  },
  {
   "cell_type": "code",
   "execution_count": 2,
   "metadata": {
    "collapsed": true,
    "executionInfo": {
     "elapsed": 22,
     "status": "ok",
     "timestamp": 1737369225816,
     "user": {
      "displayName": "Олена Дегтяр",
      "userId": "02379196706787407849"
     },
     "user_tz": -120
    },
    "id": "MYVa_mjzxfrv",
    "jupyter": {
     "outputs_hidden": true
    }
   },
   "outputs": [],
   "source": [
    "A = {1, 2, 3}"
   ]
  },
  {
   "cell_type": "code",
   "execution_count": 3,
   "metadata": {
    "colab": {
     "base_uri": "https://localhost:8080/"
    },
    "executionInfo": {
     "elapsed": 23,
     "status": "ok",
     "timestamp": 1737369225819,
     "user": {
      "displayName": "Олена Дегтяр",
      "userId": "02379196706787407849"
     },
     "user_tz": -120
    },
    "id": "mf16ji0pxfrw",
    "outputId": "bacabb34-7b30-405a-d53e-446974a99ce4"
   },
   "outputs": [
    {
     "name": "stdout",
     "output_type": "stream",
     "text": [
      "Перестановки множини {1, 2, 3}: {(1, 3, 2), (1, 2, 3), (2, 1, 3), (3, 2, 1), (3, 1, 2), (2, 3, 1)}\n",
      "Кількість перестановок:  6\n"
     ]
    }
   ],
   "source": [
    "# Використовуючи власну функцію\n",
    "permute_all = set(permute(A))\n",
    "print(\"Перестановки множини {}: {}\".format(A,permute_all))\n",
    "print(\"Кількість перестановок: \", len(permute_all))"
   ]
  },
  {
   "cell_type": "markdown",
   "metadata": {
    "id": "BVHuo6LCxfrx"
   },
   "source": [
    "### 1.2 Використовуючи бібліотеку `itertools`"
   ]
  },
  {
   "cell_type": "code",
   "execution_count": 1,
   "metadata": {
    "executionInfo": {
     "elapsed": 398,
     "status": "ok",
     "timestamp": 1737369240522,
     "user": {
      "displayName": "Олена Дегтяр",
      "userId": "02379196706787407849"
     },
     "user_tz": -120
    },
    "id": "fAVymihexfry"
   },
   "outputs": [],
   "source": [
    "from itertools import permutations"
   ]
  },
  {
   "cell_type": "code",
   "execution_count": 2,
   "metadata": {
    "executionInfo": {
     "elapsed": 383,
     "status": "ok",
     "timestamp": 1737369242633,
     "user": {
      "displayName": "Олена Дегтяр",
      "userId": "02379196706787407849"
     },
     "user_tz": -120
    },
    "id": "6oK1QNntxfry"
   },
   "outputs": [],
   "source": [
    "A = {1, 2, 3}"
   ]
  },
  {
   "cell_type": "code",
   "execution_count": 3,
   "metadata": {
    "colab": {
     "base_uri": "https://localhost:8080/"
    },
    "executionInfo": {
     "elapsed": 305,
     "status": "ok",
     "timestamp": 1737369246166,
     "user": {
      "displayName": "Олена Дегтяр",
      "userId": "02379196706787407849"
     },
     "user_tz": -120
    },
    "id": "p74wyA2vxfrz",
    "outputId": "40979a13-3757-485a-f0a8-0f642fba43be"
   },
   "outputs": [
    {
     "name": "stdout",
     "output_type": "stream",
     "text": [
      "Перестановки множини {1, 2, 3}: {(1, 3, 2), (1, 2, 3), (2, 1, 3), (3, 2, 1), (3, 1, 2), (2, 3, 1)}\n",
      "Кількість перестановок:  6\n"
     ]
    }
   ],
   "source": [
    "# Використовуючи бібліотеку itertools\n",
    "permute_all = set(permutations(A))\n",
    "print(\"Перестановки множини {}: {}\".format(A,permute_all))\n",
    "print(\"Кількість перестановок: \", len(permute_all))"
   ]
  },
  {
   "cell_type": "markdown",
   "metadata": {
    "id": "HydrklbDzCFT"
   },
   "source": []
  },
  {
   "cell_type": "markdown",
   "metadata": {
    "id": "LnrGkgc4xfr0"
   },
   "source": [
    "### 1.3 Задача\n",
    "Виведіть всі можливі перестановки та порахуйте їх кількість від таких множин:\n",
    "- {1, 3, 5}\n",
    "- {1, 2, 3, 4}\n",
    "- {1, 2, 2, 1}\n",
    "\n",
    "\n",
    "**Зауваження.** Спробуйте задати множину $\\{1, 2, 2, 1\\}$ у вигляді списку, тобто $A = [1, 2, 2, 1]$."
   ]
  },
  {
   "cell_type": "code",
   "execution_count": 14,
   "metadata": {
    "executionInfo": {
     "elapsed": 206,
     "status": "ok",
     "timestamp": 1737311195755,
     "user": {
      "displayName": "Олена Дегтяр",
      "userId": "02379196706787407849"
     },
     "user_tz": -120
    },
    "id": "nSHtgVbixfr0"
   },
   "outputs": [
    {
     "name": "stdout",
     "output_type": "stream",
     "text": [
      "[(3, 5, 1), (5, 1, 3)]\n",
      "amount = 2\n",
      "[(2, 1, 4, 3), (2, 3, 4, 1), (2, 4, 1, 3), (3, 1, 4, 2), (3, 4, 1, 2), (3, 4, 2, 1), (4, 1, 2, 3), (4, 3, 1, 2), (4, 3, 2, 1)]\n",
      "amount = 9\n",
      "[(2, 1, 1, 2), (2, 1, 1, 2), (2, 1, 1, 2), (2, 1, 1, 2)]\n",
      "amount = 4\n",
      "[(2, 1)]\n",
      "amount = 1\n"
     ]
    }
   ],
   "source": [
    "# Аудиторна задача\n",
    "from itertools import permutations\n",
    "set1 = [1, 3, 5]\n",
    "set2 = [1, 2, 3, 4]\n",
    "set3 = [1, 2, 2, 1]\n",
    "set3_2 = (1, 2)\n",
    "def printer(elements_lst):\n",
    "    permutations_all = set(permutations(elements_lst))\n",
    "    print(permutations_all)\n",
    "    print(len(permutations_all))printer(set1)\n",
    "printer(set2)\n",
    "printer(set3)\n",
    "printer(set3_2)"
   ]
  },
  {
   "cell_type": "markdown",
   "metadata": {
    "id": "Cx0tRgPpxfr1"
   },
   "source": [
    "### 1.4 Задача\n",
    "Виведіть всі можливі перестановки без нерухомих точок та порахуйте їх кількість від таких множин:\n",
    "- {1, 2, 3}\n",
    "- {1, 2, 3, 4}\n",
    "- {1, 3, 5, 7}\n",
    "- {1, 2, 2, 1}\n",
    "\n",
    "_Перестановка без нерухомих точок_ - це така перестановка, в якій позиція кожного елементу не збігається з його позицією в початковій множині.\n",
    "**Приклад.** Для множини {1, 2, 3, 4, 5}:\n",
    "- {4, 1, 5, 2, 3} - перестановка без нерухомих точок\n",
    "- {4, **2**, 1, 3, **5**} - перестановка з нерухомими точками"
   ]
  },
  {
   "cell_type": "code",
   "execution_count": 63,
   "metadata": {
    "executionInfo": {
     "elapsed": 237,
     "status": "ok",
     "timestamp": 1737311206662,
     "user": {
      "displayName": "Олена Дегтяр",
      "userId": "02379196706787407849"
     },
     "user_tz": -120
    },
    "id": "9cCQx3eexfr2"
   },
   "outputs": [
    {
     "name": "stdout",
     "output_type": "stream",
     "text": [
      "[(3, 1, 2), (2, 3, 1)]\n",
      "amount = 2\n",
      "[(4, 3, 2, 1), (2, 4, 1, 3), (4, 3, 1, 2), (3, 4, 2, 1), (2, 1, 4, 3), (4, 1, 2, 3), (3, 4, 1, 2), (2, 3, 4, 1), (3, 1, 4, 2)]\n",
      "amount = 9\n",
      "[(5, 7, 1, 3), (7, 1, 3, 5), (7, 5, 3, 1), (3, 7, 1, 5), (5, 1, 7, 3), (7, 5, 1, 3), (3, 1, 7, 5), (3, 5, 7, 1), (5, 7, 3, 1)]\n",
      "amount = 9\n",
      "[(2, 1, 1, 2)]\n",
      "amount = 1\n"
     ]
    }
   ],
   "source": [
    "set1 = (1, 2, 3)\n",
    "set2 = (1, 2, 3, 4)\n",
    "set3 =  (1, 3, 5, 7)\n",
    "set4 = [1, 2, 2, 1]\n",
    "\n",
    "\n",
    "def printer(elements):\n",
    "    output = []\n",
    "    for perm in set(permutations(elements)):\n",
    "        if all(perm[i] != elements[i] for i in range(len(elements))):\n",
    "            output.append(perm)\n",
    "    print(output)\n",
    "    print(f\"amount = {len(output)}\")\n",
    "\n",
    "for set_ in [set1, set2, set3, set4]:\n",
    "    printer(set_)"
   ]
  },
  {
   "cell_type": "markdown",
   "metadata": {
    "id": "SVUOVqwDxfr3"
   },
   "source": [
    "### 1.5 Задача\n",
    "Виведіть всі можливі перестановки, в яких перші $4$ елементи зростають, а наступні спадають, та порахуйте їх кількість від таких множин:\n",
    "- {1, 2, 3, 4, 5, 6, 7, 8}\n",
    "- {1, 2, 3, 4, 5, 6, 7, 8, 9, 10}\n",
    "\n",
    "**Зауваження.** Нехай перестановка\n",
    "$\\pi = \\left( \\sigma_1, \\sigma_2, \\sigma_3, \\sigma_4, \\sigma_5, \\sigma_6, \\sigma_7, \\sigma_8 \\right)$.\n",
    "Тоді має виконуватися така умова:\n",
    "$$\n",
    "  \\sigma_1 < \\sigma_2 < \\sigma_3 < \\sigma_4 > \\sigma_5 > \\sigma_6 > \\sigma_7 > \\sigma_8.\n",
    "$$"
   ]
  },
  {
   "cell_type": "code",
   "execution_count": 61,
   "metadata": {
    "executionInfo": {
     "elapsed": 211,
     "status": "ok",
     "timestamp": 1737311221397,
     "user": {
      "displayName": "Олена Дегтяр",
      "userId": "02379196706787407849"
     },
     "user_tz": -120
    },
    "id": "uMEDMjiNxfr4"
   },
   "outputs": [
    {
     "name": "stdout",
     "output_type": "stream",
     "text": [
      "[(1, 2, 3, 8, 7, 6, 5, 4), (1, 2, 4, 8, 7, 6, 5, 3), (1, 2, 5, 8, 7, 6, 4, 3), (1, 2, 6, 8, 7, 5, 4, 3), (1, 2, 7, 8, 6, 5, 4, 3), (1, 3, 4, 8, 7, 6, 5, 2), (1, 3, 5, 8, 7, 6, 4, 2), (1, 3, 6, 8, 7, 5, 4, 2), (1, 3, 7, 8, 6, 5, 4, 2), (1, 4, 5, 8, 7, 6, 3, 2), (1, 4, 6, 8, 7, 5, 3, 2), (1, 4, 7, 8, 6, 5, 3, 2), (1, 5, 6, 8, 7, 4, 3, 2), (1, 5, 7, 8, 6, 4, 3, 2), (1, 6, 7, 8, 5, 4, 3, 2), (2, 3, 4, 8, 7, 6, 5, 1), (2, 3, 5, 8, 7, 6, 4, 1), (2, 3, 6, 8, 7, 5, 4, 1), (2, 3, 7, 8, 6, 5, 4, 1), (2, 4, 5, 8, 7, 6, 3, 1), (2, 4, 6, 8, 7, 5, 3, 1), (2, 4, 7, 8, 6, 5, 3, 1), (2, 5, 6, 8, 7, 4, 3, 1), (2, 5, 7, 8, 6, 4, 3, 1), (2, 6, 7, 8, 5, 4, 3, 1), (3, 4, 5, 8, 7, 6, 2, 1), (3, 4, 6, 8, 7, 5, 2, 1), (3, 4, 7, 8, 6, 5, 2, 1), (3, 5, 6, 8, 7, 4, 2, 1), (3, 5, 7, 8, 6, 4, 2, 1), (3, 6, 7, 8, 5, 4, 2, 1), (4, 5, 6, 8, 7, 3, 2, 1), (4, 5, 7, 8, 6, 3, 2, 1), (4, 6, 7, 8, 5, 3, 2, 1), (5, 6, 7, 8, 4, 3, 2, 1)]\n",
      "amount = 35\n",
      "[(1, 2, 3, 10, 9, 8, 7, 6, 5, 4), (1, 2, 4, 10, 9, 8, 7, 6, 5, 3), (1, 2, 5, 10, 9, 8, 7, 6, 4, 3), (1, 2, 6, 10, 9, 8, 7, 5, 4, 3), (1, 2, 7, 10, 9, 8, 6, 5, 4, 3), (1, 2, 8, 10, 9, 7, 6, 5, 4, 3), (1, 2, 9, 10, 8, 7, 6, 5, 4, 3), (1, 3, 4, 10, 9, 8, 7, 6, 5, 2), (1, 3, 5, 10, 9, 8, 7, 6, 4, 2), (1, 3, 6, 10, 9, 8, 7, 5, 4, 2), (1, 3, 7, 10, 9, 8, 6, 5, 4, 2), (1, 3, 8, 10, 9, 7, 6, 5, 4, 2), (1, 3, 9, 10, 8, 7, 6, 5, 4, 2), (1, 4, 5, 10, 9, 8, 7, 6, 3, 2), (1, 4, 6, 10, 9, 8, 7, 5, 3, 2), (1, 4, 7, 10, 9, 8, 6, 5, 3, 2), (1, 4, 8, 10, 9, 7, 6, 5, 3, 2), (1, 4, 9, 10, 8, 7, 6, 5, 3, 2), (1, 5, 6, 10, 9, 8, 7, 4, 3, 2), (1, 5, 7, 10, 9, 8, 6, 4, 3, 2), (1, 5, 8, 10, 9, 7, 6, 4, 3, 2), (1, 5, 9, 10, 8, 7, 6, 4, 3, 2), (1, 6, 7, 10, 9, 8, 5, 4, 3, 2), (1, 6, 8, 10, 9, 7, 5, 4, 3, 2), (1, 6, 9, 10, 8, 7, 5, 4, 3, 2), (1, 7, 8, 10, 9, 6, 5, 4, 3, 2), (1, 7, 9, 10, 8, 6, 5, 4, 3, 2), (1, 8, 9, 10, 7, 6, 5, 4, 3, 2), (2, 3, 4, 10, 9, 8, 7, 6, 5, 1), (2, 3, 5, 10, 9, 8, 7, 6, 4, 1), (2, 3, 6, 10, 9, 8, 7, 5, 4, 1), (2, 3, 7, 10, 9, 8, 6, 5, 4, 1), (2, 3, 8, 10, 9, 7, 6, 5, 4, 1), (2, 3, 9, 10, 8, 7, 6, 5, 4, 1), (2, 4, 5, 10, 9, 8, 7, 6, 3, 1), (2, 4, 6, 10, 9, 8, 7, 5, 3, 1), (2, 4, 7, 10, 9, 8, 6, 5, 3, 1), (2, 4, 8, 10, 9, 7, 6, 5, 3, 1), (2, 4, 9, 10, 8, 7, 6, 5, 3, 1), (2, 5, 6, 10, 9, 8, 7, 4, 3, 1), (2, 5, 7, 10, 9, 8, 6, 4, 3, 1), (2, 5, 8, 10, 9, 7, 6, 4, 3, 1), (2, 5, 9, 10, 8, 7, 6, 4, 3, 1), (2, 6, 7, 10, 9, 8, 5, 4, 3, 1), (2, 6, 8, 10, 9, 7, 5, 4, 3, 1), (2, 6, 9, 10, 8, 7, 5, 4, 3, 1), (2, 7, 8, 10, 9, 6, 5, 4, 3, 1), (2, 7, 9, 10, 8, 6, 5, 4, 3, 1), (2, 8, 9, 10, 7, 6, 5, 4, 3, 1), (3, 4, 5, 10, 9, 8, 7, 6, 2, 1), (3, 4, 6, 10, 9, 8, 7, 5, 2, 1), (3, 4, 7, 10, 9, 8, 6, 5, 2, 1), (3, 4, 8, 10, 9, 7, 6, 5, 2, 1), (3, 4, 9, 10, 8, 7, 6, 5, 2, 1), (3, 5, 6, 10, 9, 8, 7, 4, 2, 1), (3, 5, 7, 10, 9, 8, 6, 4, 2, 1), (3, 5, 8, 10, 9, 7, 6, 4, 2, 1), (3, 5, 9, 10, 8, 7, 6, 4, 2, 1), (3, 6, 7, 10, 9, 8, 5, 4, 2, 1), (3, 6, 8, 10, 9, 7, 5, 4, 2, 1), (3, 6, 9, 10, 8, 7, 5, 4, 2, 1), (3, 7, 8, 10, 9, 6, 5, 4, 2, 1), (3, 7, 9, 10, 8, 6, 5, 4, 2, 1), (3, 8, 9, 10, 7, 6, 5, 4, 2, 1), (4, 5, 6, 10, 9, 8, 7, 3, 2, 1), (4, 5, 7, 10, 9, 8, 6, 3, 2, 1), (4, 5, 8, 10, 9, 7, 6, 3, 2, 1), (4, 5, 9, 10, 8, 7, 6, 3, 2, 1), (4, 6, 7, 10, 9, 8, 5, 3, 2, 1), (4, 6, 8, 10, 9, 7, 5, 3, 2, 1), (4, 6, 9, 10, 8, 7, 5, 3, 2, 1), (4, 7, 8, 10, 9, 6, 5, 3, 2, 1), (4, 7, 9, 10, 8, 6, 5, 3, 2, 1), (4, 8, 9, 10, 7, 6, 5, 3, 2, 1), (5, 6, 7, 10, 9, 8, 4, 3, 2, 1), (5, 6, 8, 10, 9, 7, 4, 3, 2, 1), (5, 6, 9, 10, 8, 7, 4, 3, 2, 1), (5, 7, 8, 10, 9, 6, 4, 3, 2, 1), (5, 7, 9, 10, 8, 6, 4, 3, 2, 1), (5, 8, 9, 10, 7, 6, 4, 3, 2, 1), (6, 7, 8, 10, 9, 5, 4, 3, 2, 1), (6, 7, 9, 10, 8, 5, 4, 3, 2, 1), (6, 8, 9, 10, 7, 5, 4, 3, 2, 1), (7, 8, 9, 10, 6, 5, 4, 3, 2, 1)]\n",
      "amount = 84\n"
     ]
    }
   ],
   "source": [
    "\n",
    "\n",
    "def printer2(elements):\n",
    "    output = []\n",
    "    for perm in permutations(elements):\n",
    "        if (all(perm[i] < perm[i+1] for i in range(3)) and all(perm[i] > perm[i+1] for i in range(3, len(perm) -1))):\n",
    "            output.append(perm)\n",
    "    print(output)\n",
    "    print(f\"amount = {len(output)}\")\n",
    "\n",
    "lst1 = (1, 2, 3, 4, 5, 6, 7, 8)\n",
    "lst2 = (1, 2, 3, 4, 5, 6, 7, 8, 9, 10)\n",
    "printer2(lst1)\n",
    "printer2(lst2)"
   ]
  },
  {
   "cell_type": "markdown",
   "metadata": {
    "id": "GiBp9y_Vxfr5"
   },
   "source": [
    "## 2 Часткові перестановки"
   ]
  },
  {
   "cell_type": "markdown",
   "metadata": {
    "id": "1sEdHFb0xfr6"
   },
   "source": [
    "### 2.1 Використовуючи бібліотеку `itertools`"
   ]
  },
  {
   "cell_type": "code",
   "execution_count": null,
   "metadata": {
    "collapsed": true,
    "id": "t3fP-wPixfr6",
    "jupyter": {
     "outputs_hidden": true
    }
   },
   "outputs": [],
   "source": [
    "A = {1, 2, 3}\n",
    "k = 2"
   ]
  },
  {
   "cell_type": "code",
   "execution_count": null,
   "metadata": {
    "id": "tNFBm6urxfr7"
   },
   "outputs": [],
   "source": [
    "# перестановки довжини k множини A\n",
    "permute_k = list(permutations(A, k))\n",
    "print(\"Перестановки довжини {} множини {}: {}\".format(k,A,permute_k))\n",
    "print(\"Кількість таких перестановок: {}\".format(len(permute_k)))"
   ]
  },
  {
   "cell_type": "markdown",
   "metadata": {
    "id": "RSCT33Lpxfr7"
   },
   "source": [
    "### 2.2 Задача\n",
    "Нехай $n$ - розмір множини, $k$ - розмір перестановок.\n",
    "Виведіть всі можливі часткові перестановки та порахуйте їх кількість для таких параметрів:\n",
    "- $n = 4, k = 2$\n",
    "- $n = 4, k = 3$\n",
    "- $n = 5, k = 2$"
   ]
  },
  {
   "cell_type": "code",
   "execution_count": 19,
   "metadata": {
    "executionInfo": {
     "elapsed": 213,
     "status": "ok",
     "timestamp": 1737311453916,
     "user": {
      "displayName": "Олена Дегтяр",
      "userId": "02379196706787407849"
     },
     "user_tz": -120
    },
    "id": "80zIpGe2xfr8"
   },
   "outputs": [
    {
     "name": "stdout",
     "output_type": "stream",
     "text": [
      "Перестановки довжини 2 множини {1, 2, 3, 4}: [(1, 2), (1, 3), (1, 4), (2, 1), (2, 3), (2, 4), (3, 1), (3, 2), (3, 4), (4, 1), (4, 2), (4, 3)]\n",
      "Кількість таких перестановок: 12\n",
      "Перестановки довжини 3 множини {1, 2, 3, 4}: [(1, 2, 3), (1, 2, 4), (1, 3, 2), (1, 3, 4), (1, 4, 2), (1, 4, 3), (2, 1, 3), (2, 1, 4), (2, 3, 1), (2, 3, 4), (2, 4, 1), (2, 4, 3), (3, 1, 2), (3, 1, 4), (3, 2, 1), (3, 2, 4), (3, 4, 1), (3, 4, 2), (4, 1, 2), (4, 1, 3), (4, 2, 1), (4, 2, 3), (4, 3, 1), (4, 3, 2)]\n",
      "Кількість таких перестановок: 24\n"
     ]
    }
   ],
   "source": [
    "# Аудиторна задача\n",
    "A = {1, 2, 3, 4}\n",
    "k = 2\n",
    "permute_k = list(permutations(A, k))\n",
    "print(\"Перестановки довжини {} множини {}: {}\".format(k,A,permute_k))\n",
    "print(\"Кількість таких перестановок: {}\".format(len(permute_k)))\n",
    "B = {1, 2, 3, 4}\n",
    "m = 3\n",
    "permute_m = list(permutations(B, m))\n",
    "print(\"Перестановки довжини {} множини {}: {}\".format(m,B,permute_m))\n",
    "print(\"Кількість таких перестановок: {}\".format(len(permute_m)))\n",
    "C = {1, 2, 3, 4, 5}\n",
    "n = 2\n"
   ]
  },
  {
   "cell_type": "markdown",
   "metadata": {
    "id": "a_PINwOnxfr9"
   },
   "source": [
    "## 3 Комбінації без повторень"
   ]
  },
  {
   "cell_type": "markdown",
   "metadata": {
    "id": "5cjjYUGMxfr9"
   },
   "source": [
    "### 3.1 Використовуючи бібліотеку `itertools`"
   ]
  },
  {
   "cell_type": "code",
   "execution_count": null,
   "metadata": {
    "collapsed": true,
    "id": "HBl7bNJzxfr-",
    "jupyter": {
     "outputs_hidden": true
    }
   },
   "outputs": [],
   "source": [
    "from itertools import combinations"
   ]
  },
  {
   "cell_type": "code",
   "execution_count": null,
   "metadata": {
    "collapsed": true,
    "id": "w6x47f1oxfr-",
    "jupyter": {
     "outputs_hidden": true
    }
   },
   "outputs": [],
   "source": [
    "A = {1, 2, 3}\n",
    "k = 2"
   ]
  },
  {
   "cell_type": "code",
   "execution_count": null,
   "metadata": {
    "id": "yq-ZXD40xfr_"
   },
   "outputs": [],
   "source": [
    "# комбінації довжини k множини A\n",
    "choose_k = list(combinations(A,k))\n",
    "print(\"Комбінації довжини {} множини {}: {}\".format(k,A,choose_k))\n",
    "print(\"Кількість таких комбінацій: {}\".format(len(choose_k)  ))"
   ]
  },
  {
   "cell_type": "markdown",
   "metadata": {
    "id": "Mh8pMxMCxfr_"
   },
   "source": [
    "### 3.2 Задача\n",
    "Нехай $n$ - розмір множини, $k$ - розмір комбінацій.\n",
    "Виведіть всі можливі комбінації без повторень та порахуйте їх кількість для таких параметрів:\n",
    "- $n = 4, k = 2$\n",
    "- $n = 4, k = 3$\n",
    "- $n = 5, k = 2$"
   ]
  },
  {
   "cell_type": "code",
   "execution_count": 24,
   "metadata": {
    "executionInfo": {
     "elapsed": 408,
     "status": "ok",
     "timestamp": 1737311600992,
     "user": {
      "displayName": "Олена Дегтяр",
      "userId": "02379196706787407849"
     },
     "user_tz": -120
    },
    "id": "iKk0ZgDDxfsA"
   },
   "outputs": [],
   "source": [
    "# Аудиторна задача\n",
    "A = [i for i in range(1,5)]\n",
    "k = 2\n",
    "choose_k = list(combinations(A,k))\n",
    "print(\"Комбінації довжини {} множини {}: {}\".format(k,A,choose_k))\n",
    "print(\"Кількість таких комбінацій: {}\".format(len(choose_k)  ))\n",
    "A = [i for i in range(1,5)]\n",
    "k = 3\n",
    "choose_k = list(combinations(A,k))\n",
    "print(\"Комбінації довжини {} множини {}: {}\".format(k,A,choose_k))\n",
    "print(\"Кількість таких комбінацій: {}\".format(len(choose_k)  ))\n",
    "A = [i for i in range(1,6)]\n",
    "k = 2\n",
    "choose_k = list(combinations(A,k))\n",
    "print(\"Комбінації довжини {} множини {}: {}\".format(k,A,choose_k))\n",
    "print(\"Кількість таких комбінацій: {}\".format(len(choose_k)  ))"
   ]
  },
  {
   "cell_type": "markdown",
   "metadata": {
    "id": "UBe8BeYAxfsA"
   },
   "source": [
    "### 3.3 Задача\n",
    "Нехай $A$ - множина з $10$ елементів, кожен з яких є цілим числом від $1$ до $20$.\n",
    "Тобто $$A = \\{ a_i \\}_{i = 1}^{10},\\\\ 1 \\leq a_i \\leq 20, \\quad i = 1, \\ldots, 10.$$\n",
    "Скільки елементів може бути в множині, яка складається із попарних сум елементів множини $A$?\n",
    "$$B = \\{ b_k \\, \\colon \\, b_k = a_i + a_j, \\quad a_i, a_j \\in A, \\, 1 \\leq i, j \\leq 10, \\, i \\neq j \\}_{k = 1}^{\\textbf{?}}$$"
   ]
  },
  {
   "cell_type": "code",
   "execution_count": 64,
   "metadata": {
    "executionInfo": {
     "elapsed": 227,
     "status": "ok",
     "timestamp": 1737311651928,
     "user": {
      "displayName": "Олена Дегтяр",
      "userId": "02379196706787407849"
     },
     "user_tz": -120
    },
    "id": "cedvGf4_xfsB"
   },
   "outputs": [
    {
     "name": "stdout",
     "output_type": "stream",
     "text": [
      "45\n",
      "[(1, 2), (1, 3), (1, 4), (1, 5), (1, 6), (1, 7), (1, 8), (1, 9), (1, 10), (2, 3), (2, 4), (2, 5), (2, 6), (2, 7), (2, 8), (2, 9), (2, 10), (3, 4), (3, 5), (3, 6), (3, 7), (3, 8), (3, 9), (3, 10), (4, 5), (4, 6), (4, 7), (4, 8), (4, 9), (4, 10), (5, 6), (5, 7), (5, 8), (5, 9), (5, 10), (6, 7), (6, 8), (6, 9), (6, 10), (7, 8), (7, 9), (7, 10), (8, 9), (8, 10), (9, 10)]\n"
     ]
    }
   ],
   "source": [
    "# if a_{i} can = a_{j}\n",
    "\n",
    "from itertools import combinations\n",
    "\n",
    "A = list(range(1, 11))\n",
    "result = list(combinations(A, 2))\n",
    "print(len(result))\n",
    "print(result)"
   ]
  },
  {
   "cell_type": "code",
   "execution_count": 71,
   "metadata": {},
   "outputs": [
    {
     "name": "stdout",
     "output_type": "stream",
     "text": [
      "max size = 35\n",
      "min size = 17\n"
     ]
    }
   ],
   "source": [
    "# if a_{i} != a_{j}\n",
    "A_elements = [i for i in range(1, 20+1)]\n",
    "set_of_set = []\n",
    "sizes_lst = []\n",
    "for A in list(combinations(A_elements, 10)):\n",
    "    set_ = set()\n",
    "    \n",
    "    combs = list(combinations(A, 2))\n",
    "\n",
    "    for comb in combs:\n",
    "        set_.add(comb[0] + comb[1])\n",
    "    set_of_set.append(set_)\n",
    "    sizes_lst.append(len(set_))\n",
    "\n",
    "# for set_ in set_of_set: # all sizes (too much)\n",
    "#     print(len(set_))\n",
    "\n",
    "print(f\"max size = {max(sizes_lst)}\")\n",
    "print(f\"min size = {min(sizes_lst)}\")"
   ]
  },
  {
   "cell_type": "markdown",
   "metadata": {
    "id": "0obsbqhTxfsC"
   },
   "source": [
    "## 4 Комбінації з повтореннями"
   ]
  },
  {
   "cell_type": "markdown",
   "metadata": {
    "id": "yViCbQRgxfsC"
   },
   "source": [
    "### 4.1 Використовуючи бібліотеку `itertools`"
   ]
  },
  {
   "cell_type": "markdown",
   "metadata": {
    "id": "2CU-UEmGWt78"
   },
   "source": []
  },
  {
   "cell_type": "code",
   "execution_count": 28,
   "metadata": {
    "id": "zW00yJumxfsD"
   },
   "outputs": [],
   "source": [
    "from itertools import combinations_with_replacement"
   ]
  },
  {
   "cell_type": "code",
   "execution_count": 29,
   "metadata": {
    "id": "9rIZzqWwxfsE"
   },
   "outputs": [],
   "source": [
    "A = {1, 2, 3}\n",
    "k = 2"
   ]
  },
  {
   "cell_type": "code",
   "execution_count": 30,
   "metadata": {
    "id": "wJPzrThsxfsF"
   },
   "outputs": [
    {
     "name": "stdout",
     "output_type": "stream",
     "text": [
      "Комбінації довжини 2 множини {1, 2, 3}: [(1, 1), (1, 2), (1, 3), (2, 2), (2, 3), (3, 3)]\n",
      "Кількість таких комбінацій: 6\n"
     ]
    }
   ],
   "source": [
    "# комбінації довжини k множини A\n",
    "choose_k = list(combinations_with_replacement(A,k))\n",
    "print(\"Комбінації довжини {} множини {}: {}\".format(k,A,choose_k))\n",
    "print(\"Кількість таких комбінацій: {}\".format(len(choose_k)  ))"
   ]
  },
  {
   "cell_type": "markdown",
   "metadata": {
    "id": "I5kcrZ7_xfsG"
   },
   "source": [
    "### 4.2 Задача\n",
    "Нехай $n$ - розмір множини, $k$ - розмір комбінацій.\n",
    "Виведіть всі можливі комбінації з повтореннями та порахуйте їх кількість для таких параметрів:\n",
    "- $n = 4, k = 2$\n",
    "- $n = 4, k = 3$\n",
    "- $n = 5, k = 2$"
   ]
  },
  {
   "cell_type": "code",
   "execution_count": 27,
   "metadata": {
    "executionInfo": {
     "elapsed": 211,
     "status": "ok",
     "timestamp": 1737311692778,
     "user": {
      "displayName": "Олена Дегтяр",
      "userId": "02379196706787407849"
     },
     "user_tz": -120
    },
    "id": "tKG4ImLKxfsH"
   },
   "outputs": [],
   "source": [
    "# Аудиторна задача\n",
    "from itertools import combinations_with_replacement\n",
    "\n",
    "\n",
    " def foo(n, k):\n",
    "  A = [i for i in range(n)]\n",
    "  choose_k = list(combinations_with_replacement(A,k))\n",
    "  print(\"Комбінації довжини {} множини {}: {}\".format(k,A,choose_k))\n",
    "  print(\"Кількість таких комбінацій: {}\".format(len(choose_k)))\n",
    "\n",
    "a = [(4, 2), (4, 3), (5, 2)]\n",
    "\n",
    "for (n,k) in a:\n",
    "  foo(n, k)"
   ]
  },
  {
   "cell_type": "markdown",
   "metadata": {
    "id": "x2edMRrsxfsK"
   },
   "source": [
    "### 4.3 Задача\n",
    "Скільки існує 6-цифрових чисел, в яких дві однакові цифри не стоять поряд?\n",
    "\n",
    "**Зауваження 1.** В задачі фігурують 6-цифрові числа, тобто перша цифра не може дорівнювати $0$.\n",
    "\n",
    "**Зауваження 2.** Задача передбачає використання функції\n",
    "[product](https://docs.python.org/3/library/itertools.html#itertools.product)."
   ]
  },
  {
   "cell_type": "code",
   "execution_count": 72,
   "metadata": {},
   "outputs": [
    {
     "name": "stdout",
     "output_type": "stream",
     "text": [
      "531441\n",
      "531441\n"
     ]
    }
   ],
   "source": [
    "from itertools import product\n",
    "combinations = product(range(10), repeat=6)\n",
    "valid_combinations = [comb for comb in combinations if all((comb[i] != comb[i+1] and comb[0] != 0) for i in range(len(comb) - 1))]\n",
    "print(len(valid_combinations))\n",
    "print(9**6)"
   ]
  },
  {
   "cell_type": "code",
   "execution_count": null,
   "metadata": {},
   "outputs": [],
   "source": []
  }
 ],
 "metadata": {
  "colab": {
   "provenance": [],
   "toc_visible": true
  },
  "kernelspec": {
   "display_name": "Python 3 (ipykernel)",
   "language": "python",
   "name": "python3"
  },
  "language_info": {
   "codemirror_mode": {
    "name": "ipython",
    "version": 3
   },
   "file_extension": ".py",
   "mimetype": "text/x-python",
   "name": "python",
   "nbconvert_exporter": "python",
   "pygments_lexer": "ipython3",
   "version": "3.13.1"
  }
 },
 "nbformat": 4,
 "nbformat_minor": 4
}
