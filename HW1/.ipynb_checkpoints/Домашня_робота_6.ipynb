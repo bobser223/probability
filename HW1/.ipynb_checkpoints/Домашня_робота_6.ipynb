{
  "cells": [
    {
      "cell_type": "markdown",
      "metadata": {
        "id": "8YTGG9Cs6YHo"
      },
      "source": [
        "# Домашня робота №7"
      ]
    },
    {
      "cell_type": "markdown",
      "metadata": {
        "id": "wrBrdBEx6YHt"
      },
      "source": [
        "# Перетворення випадкових величин"
      ]
    },
    {
      "cell_type": "code",
      "execution_count": null,
      "metadata": {
        "collapsed": true,
        "id": "H_Zj1lWH6YHu"
      },
      "outputs": [],
      "source": [
        "import numpy as np\n",
        "import matplotlib.pyplot as plt"
      ]
    },
    {
      "cell_type": "markdown",
      "metadata": {
        "id": "Wi4q6MUE6YHx"
      },
      "source": [
        "## 1 Квантильне перетворення"
      ]
    },
    {
      "cell_type": "markdown",
      "metadata": {
        "id": "jqnjn-076YH0"
      },
      "source": [
        "### 1.1 Нормальний розподіл"
      ]
    },
    {
      "cell_type": "markdown",
      "metadata": {
        "id": "dNk-W48H6YH1"
      },
      "source": [
        "Нехай випадкова величина $\\xi \\sim N(0, 1)$.\n",
        "\n",
        "Згенеруйте $n = 100000$ значень випадкової величини $\\xi$ за допомогою квантильного перетворення.\n",
        "\n",
        "Намалюйте нормовану гістограму отриманих $n = 100000$ значень випадкової величини $\\xi$ разом з її функцією щільності."
      ]
    },
    {
      "cell_type": "code",
      "execution_count": null,
      "metadata": {
        "id": "Mh4tzyEo6YH1"
      },
      "outputs": [],
      "source": [
        "#місце для коду"
      ]
    },
    {
      "cell_type": "markdown",
      "metadata": {
        "id": "Yhe4WWlU6YH2"
      },
      "source": [
        "## 2 Відсутність пам'яті"
      ]
    },
    {
      "cell_type": "markdown",
      "metadata": {
        "id": "uETPjGX36YH3"
      },
      "source": [
        "Розглянемо випадкову величину $\\xi$ з геометричного розподілу з параметром $p = 0.5$.\n",
        "Тобто $\\xi \\sim Geom(0.5)$.\n",
        "\n",
        "1. Згенеруйте $n = 10000$ значень випадкової величини $\\xi$;\n",
        "2. Реалізуйте 2 сабплоти в одному рядку;\n",
        "3. На першому сабплоті намалюйте:\n",
        "   - нормовану гістограму згенерованих $n = 10000$ значень випадкової величини $\\xi$;\n",
        "   - функцію ймовірностей випадкової величини $\\xi$;\n",
        "4. Отримайте $n = 10000$ значень випадкової величини $\\eta = (\\xi - 1) I_{(\\xi - 1) > 0}$;\n",
        "5. На другому сабплоті намалюйте:\n",
        "   - нормовану гістограму отриманих значень випадкової величини $\\eta$;\n",
        "   - функцію ймовірностей випадкової величини $\\xi$.\n",
        "\n",
        "**Зауваження 1.** Графік функції ймовірнстей краще малювати для $10$ значень.\n",
        "\n",
        "**Зауваження 2.** У гістограмах проміжок значень слід розбивати на одиничні інтервали."
      ]
    },
    {
      "cell_type": "code",
      "execution_count": null,
      "metadata": {
        "id": "lGdumrUt6YH3"
      },
      "outputs": [],
      "source": [
        "#місце для коду"
      ]
    },
    {
      "cell_type": "markdown",
      "metadata": {
        "id": "V1mub9pt6YH4"
      },
      "source": [
        "## 3 Задача 1.11.3"
      ]
    },
    {
      "cell_type": "markdown",
      "metadata": {
        "id": "JIf9FKTu6YH5"
      },
      "source": [
        "Розглянемо випадкову величину $\\xi$ зі стандартного експоненційного розподілу.\n",
        "Тобто $\\xi \\sim Exp(1)$."
      ]
    },
    {
      "cell_type": "markdown",
      "metadata": {
        "id": "10sdQHDa6YH7"
      },
      "source": [
        "**Текст, выделенный полужирным шрифтом**### 3.1 Квадрат"
      ]
    },
    {
      "cell_type": "markdown",
      "metadata": {
        "id": "ZPVSrImA6YH8"
      },
      "source": [
        "1. Згенеруйте $n = 10000$ значень випадкової величини $\\xi$;\n",
        "2. Реалізуйте 2 сабплоти в одному рядку;\n",
        "3. На першому сабплоті намалюйте:\n",
        "   - нормовану гістограму згенерованих $n = 10000$ значень випадкової величини $\\xi$;\n",
        "   - функцію щільності випадкової величини $\\xi$;\n",
        "4. Отримайте $n = 10000$ значень випадкової величини $\\eta = \\xi^2$ (застосуйте функцію модуль до згенерованих $n = 10000$ значень випадкової величини $\\xi$);\n",
        "5. На другому сабплоті намалюйте:\n",
        "   - нормовану гістограму отриманих $n = 10000$ значень випадкової величини $\\eta$;\n",
        "   - функцію щільності випадкової величини $\\xi$;\n",
        "   - функцію щільності випадкової величини $\\eta$."
      ]
    },
    {
      "cell_type": "code",
      "execution_count": null,
      "metadata": {
        "scrolled": true,
        "id": "yTlMmfSQ6YH8"
      },
      "outputs": [],
      "source": [
        "#місце для коду"
      ]
    },
    {
      "cell_type": "markdown",
      "metadata": {
        "id": "tEg_oCO-6YID"
      },
      "source": [
        "## 4 Одиничний квадрат"
      ]
    },
    {
      "cell_type": "markdown",
      "metadata": {
        "id": "p7YyT7WA6YIE"
      },
      "source": [
        "Реалізуйте випадкову величину рівномірно розподілену на одиничному квадраті.\n",
        "Тобто $\\xi = (x, y), \\quad x, y \\sim Unif(0, 1)$."
      ]
    },
    {
      "cell_type": "code",
      "execution_count": null,
      "metadata": {
        "collapsed": true,
        "id": "x6wsX9sD6YIG"
      },
      "outputs": [],
      "source": [
        "#місце для коду"
      ]
    },
    {
      "cell_type": "markdown",
      "metadata": {
        "id": "pHq7wi3z6YIL"
      },
      "source": [
        "Знайдіть функцію щільності випадкової величини $\\xi_3 = |x - y|$.\n",
        "Намалюйте її разом із нормованою гістограмою $n = 100000$ значень випадкової величини $\\xi_3$,\n",
        "отриманою перетвореннями випадкових величин $x, y$."
      ]
    },
    {
      "cell_type": "code",
      "execution_count": null,
      "metadata": {
        "id": "BaIG4eQH6YIM"
      },
      "outputs": [],
      "source": [
        "#місце для коду"
      ]
    }
  ],
  "metadata": {
    "kernelspec": {
      "display_name": "Python 3",
      "language": "python",
      "name": "python3"
    },
    "language_info": {
      "codemirror_mode": {
        "name": "ipython",
        "version": 3
      },
      "file_extension": ".py",
      "mimetype": "text/x-python",
      "name": "python",
      "nbconvert_exporter": "python",
      "pygments_lexer": "ipython3",
      "version": "3.6.1"
    },
    "colab": {
      "provenance": []
    }
  },
  "nbformat": 4,
  "nbformat_minor": 0
}