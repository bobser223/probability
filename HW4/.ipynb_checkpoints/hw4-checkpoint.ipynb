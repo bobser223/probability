{
  "cells": [
    {
      "cell_type": "markdown",
      "metadata": {
        "id": "d7NfSf2T1ghM"
      },
      "source": [
        "# Домашня робота №4"
      ]
    },
    {
      "cell_type": "markdown",
      "metadata": {
        "id": "0XhpMlFX1ghP"
      },
      "source": [
        "# Дискретні розподіли"
      ]
    },
    {
      "cell_type": "code",
      "execution_count": null,
      "metadata": {
        "collapsed": true,
        "id": "greJY7KO1ghQ"
      },
      "outputs": [],
      "source": [
        "import numpy as np\n",
        "import matplotlib.pyplot as plt"
      ]
    },
    {
      "cell_type": "markdown",
      "metadata": {
        "id": "dSd5sntv1ghS"
      },
      "source": [
        "## 1 Від'ємний біноміальний розподіл"
      ]
    },
    {
      "cell_type": "markdown",
      "metadata": {
        "id": "HxiGvCZ31ghT"
      },
      "source": [
        "Більш детальна інформація в [документації](https://docs.scipy.org/doc/scipy/reference/generated/scipy.stats.nbinom.html)."
      ]
    },
    {
      "cell_type": "code",
      "execution_count": null,
      "metadata": {
        "collapsed": true,
        "id": "MXu4iMp_1ghU"
      },
      "outputs": [],
      "source": [
        "from scipy.stats import nbinom"
      ]
    },
    {
      "cell_type": "code",
      "execution_count": null,
      "metadata": {
        "collapsed": true,
        "id": "QWChcq8z1ghV"
      },
      "outputs": [],
      "source": [
        "n = 5\n",
        "p = 0.4"
      ]
    },
    {
      "cell_type": "markdown",
      "metadata": {
        "id": "FhGgBMH71ghW"
      },
      "source": [
        "### 1.1 Щільність"
      ]
    },
    {
      "cell_type": "code",
      "execution_count": null,
      "metadata": {
        "collapsed": true,
        "id": "8qPUM0uJ1ghX"
      },
      "outputs": [],
      "source": [
        "x = np.arange(-0.5, n*5+1, 0.5)"
      ]
    },
    {
      "cell_type": "markdown",
      "metadata": {
        "id": "2m7W0-dY1ghX"
      },
      "source": [
        "Виведіть значення функції щільності від'ємного біноміального розподілу з параметрами $n, p$ в точках вектора $x$."
      ]
    },
    {
      "cell_type": "code",
      "execution_count": null,
      "metadata": {
        "id": "o9UYW7LO1ghY"
      },
      "outputs": [],
      "source": [
        "# Місце для Вашого коду\n",
        "\n"
      ]
    },
    {
      "cell_type": "markdown",
      "metadata": {
        "id": "SInDQ-EN1ghY"
      },
      "source": [
        "Зобразіть графічно значення функції щільності від'ємного біноміального розподілу з параметрами $n, p$ в точках вектора $x$."
      ]
    },
    {
      "cell_type": "code",
      "execution_count": null,
      "metadata": {
        "scrolled": true,
        "id": "zqGoG_HD1ghZ"
      },
      "outputs": [],
      "source": [
        "# Місце для Вашого коду\n",
        "\n"
      ]
    },
    {
      "cell_type": "markdown",
      "metadata": {
        "id": "IkHlFZAT1ghZ"
      },
      "source": [
        "Зобразіть графічно значення функції щільності від'ємного біноміального розподілу з параметрами $n, p$ в точках вектора $x1$."
      ]
    },
    {
      "cell_type": "code",
      "execution_count": null,
      "metadata": {
        "collapsed": true,
        "id": "3gXvQOWJ1gha"
      },
      "outputs": [],
      "source": [
        "x1 = np.arange(0, n*5+1)"
      ]
    },
    {
      "cell_type": "code",
      "execution_count": null,
      "metadata": {
        "id": "e8eV0wUR1gha"
      },
      "outputs": [],
      "source": [
        "# Місце для Вашого коду\n",
        "\n"
      ]
    },
    {
      "cell_type": "markdown",
      "metadata": {
        "id": "aA-uCXu-1ghb"
      },
      "source": [
        "### 1.2 Функція розподілу"
      ]
    },
    {
      "cell_type": "markdown",
      "metadata": {
        "id": "wjPdGBS31ghb"
      },
      "source": [
        "Виведіть значення функції розподілу від'ємного біноміального розподілу з параметрами $n, p$ в точках вектора $x$."
      ]
    },
    {
      "cell_type": "code",
      "execution_count": null,
      "metadata": {
        "id": "0yJG85q11ghc"
      },
      "outputs": [],
      "source": [
        "# Місце для Вашого коду\n",
        "\n"
      ]
    },
    {
      "cell_type": "markdown",
      "metadata": {
        "id": "0gAnfABt1ghc"
      },
      "source": [
        "Зобразіть графічно значення функції розподілу від'ємного біноміального розподілу з параметрами $n, p$ в точках вектора $x$."
      ]
    },
    {
      "cell_type": "code",
      "execution_count": null,
      "metadata": {
        "id": "S7oVj4to1ghd"
      },
      "outputs": [],
      "source": [
        "# Місце для Вашого коду\n",
        "\n"
      ]
    },
    {
      "cell_type": "markdown",
      "metadata": {
        "id": "VVeypIWk1ghd"
      },
      "source": [
        "### 1.3 Випадкові величини"
      ]
    },
    {
      "cell_type": "markdown",
      "metadata": {
        "id": "3GFxUxMp1ghd"
      },
      "source": [
        "Згенеруйте $100$ випадкових величин з від'ємного біноміального розподілу з параметрами $n, p$."
      ]
    },
    {
      "cell_type": "code",
      "execution_count": null,
      "metadata": {
        "id": "nKnzXlVa1ghe"
      },
      "outputs": [],
      "source": [
        "# Місце для Вашого коду\n",
        "\n"
      ]
    },
    {
      "cell_type": "markdown",
      "metadata": {
        "id": "A9mSoZGx1ghe"
      },
      "source": [
        "Виведіть кількість кожного елемента в отриманому випадковому векторі."
      ]
    },
    {
      "cell_type": "code",
      "execution_count": null,
      "metadata": {
        "id": "R2n0v2q01ghf"
      },
      "outputs": [],
      "source": [
        "# Місце для Вашого коду\n",
        "\n"
      ]
    },
    {
      "cell_type": "markdown",
      "metadata": {
        "id": "lbnYG1WM1ghf"
      },
      "source": [
        "Зобразіть графічно кількість кожного елемента в отриманому випадковому векторі."
      ]
    },
    {
      "cell_type": "code",
      "execution_count": null,
      "metadata": {
        "scrolled": true,
        "id": "StYg6kdq1ghg"
      },
      "outputs": [],
      "source": [
        "# Місце для Вашого коду\n",
        "\n"
      ]
    },
    {
      "cell_type": "markdown",
      "metadata": {
        "id": "jxsSs1b31ght"
      },
      "source": [
        "### 3 Розподіл Пуассона"
      ]
    },
    {
      "cell_type": "markdown",
      "metadata": {
        "id": "Z0PMasmW1ght"
      },
      "source": [
        "Зобразіть графічно функцію щільності, функцію розподілу та гістограму $10000$ випадкових величин розподілу Пуассона з параметрами:\n",
        "1. $\\mu = 0.1$\n",
        "2. $\\mu = 0.2$\n",
        "3. $\\mu = 0.3$\n",
        "4. $\\mu = 0.4$\n",
        "5. $\\mu = 0.5$\n",
        "6. $\\mu = 0.6$\n",
        "7. $\\mu = 0.7$\n",
        "8. $\\mu = 0.8$\n",
        "9. $\\mu = 0.9$"
      ]
    },
    {
      "cell_type": "code",
      "execution_count": null,
      "metadata": {
        "collapsed": true,
        "id": "3WLyvoGD1ghu"
      },
      "outputs": [],
      "source": [
        "# Місце для Вашого коду\n",
        "\n"
      ]
    },
    {
      "cell_type": "markdown",
      "metadata": {
        "collapsed": true,
        "id": "COwGLlYc1gh0"
      },
      "source": [
        "## 4 Апроксимація біноміального розподілу розподілом Пуассона"
      ]
    },
    {
      "cell_type": "markdown",
      "metadata": {
        "id": "Caao8ob21gh0"
      },
      "source": [
        "Покажіть схожість біноміального розподілу та розподілу Пуассона (їх функцій щільності) з відповідними параметрами.\n",
        "Наприклад:\n",
        "- $n = 100, p = 0.05$\n",
        "- $n = 100, p = 0.1$\n",
        "- $n = 100, p = 0.15$\n",
        "- $n = 100, p = 0.2$\n",
        "- $n = 100, p = 0.35$\n",
        "- $n = 100, p = 0.5$\n",
        "- $n = 100, p = 0.75$"
      ]
    },
    {
      "cell_type": "code",
      "execution_count": null,
      "metadata": {
        "collapsed": true,
        "id": "QuR48qq21gh1"
      },
      "outputs": [],
      "source": [
        "# Місце для Вашого коду\n",
        "\n"
      ]
    }
  ],
  "metadata": {
    "kernelspec": {
      "display_name": "Python 3",
      "language": "python",
      "name": "python3"
    },
    "language_info": {
      "codemirror_mode": {
        "name": "ipython",
        "version": 3
      },
      "file_extension": ".py",
      "mimetype": "text/x-python",
      "name": "python",
      "nbconvert_exporter": "python",
      "pygments_lexer": "ipython3",
      "version": "3.6.1"
    },
    "colab": {
      "provenance": []
    }
  },
  "nbformat": 4,
  "nbformat_minor": 0
}